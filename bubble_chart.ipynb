{
 "cells": [
  {
   "cell_type": "code",
   "execution_count": 36,
   "metadata": {},
   "outputs": [
    {
     "data": {
      "text/html": [
       "        <script type=\"text/javascript\">\n",
       "        window.PlotlyConfig = {MathJaxConfig: 'local'};\n",
       "        if (window.MathJax) {MathJax.Hub.Config({SVG: {font: \"STIX-Web\"}});}\n",
       "        if (typeof require !== 'undefined') {\n",
       "        require.undef(\"plotly\");\n",
       "        requirejs.config({\n",
       "            paths: {\n",
       "                'plotly': ['https://cdn.plot.ly/plotly-2.8.3.min']\n",
       "            }\n",
       "        });\n",
       "        require(['plotly'], function(Plotly) {\n",
       "            window._Plotly = Plotly;\n",
       "        });\n",
       "        }\n",
       "        </script>\n",
       "        "
      ]
     },
     "metadata": {},
     "output_type": "display_data"
    },
    {
     "data": {
      "text/html": [
       "        <script type=\"text/javascript\">\n",
       "        window.PlotlyConfig = {MathJaxConfig: 'local'};\n",
       "        if (window.MathJax) {MathJax.Hub.Config({SVG: {font: \"STIX-Web\"}});}\n",
       "        if (typeof require !== 'undefined') {\n",
       "        require.undef(\"plotly\");\n",
       "        requirejs.config({\n",
       "            paths: {\n",
       "                'plotly': ['https://cdn.plot.ly/plotly-2.8.3.min']\n",
       "            }\n",
       "        });\n",
       "        require(['plotly'], function(Plotly) {\n",
       "            window._Plotly = Plotly;\n",
       "        });\n",
       "        }\n",
       "        </script>\n",
       "        "
      ]
     },
     "metadata": {},
     "output_type": "display_data"
    }
   ],
   "source": [
    "import pandas as pd\n",
    "import  numpy as np\n",
    "import chart_studio.plotly as py\n",
    "import cufflinks as cf\n",
    "import seaborn as sns\n",
    "import plotly.express as px\n",
    "import pandas as pd\n",
    "import plotly.graph_objects as go\n",
    "from plotly.offline import iplot\n",
    "%matplotlib inline\n",
    "\n",
    "from plotly.offline import download_plotlyjs, init_notebook_mode, plot, iplot \n",
    "init_notebook_mode(connected=True)\n",
    "cf.go_offline()\n",
    "\n",
    "df = pd.read_csv(\"./odin_data.csv\")\n",
    "countries = df[\"Country\"].unique() \n",
    "data_frames=[]\n",
    "\n",
    "#create a dataframe for avery country \n",
    "for country in countries:\n",
    "    df1=df.loc[df['Country'] == country]\n",
    "    data_frames.append(df1)\n",
    "\n",
    "def preprocessing_dataFrame(df1):\n",
    "    \n",
    "    yAxis=[0 for x in range(0,26)]\n",
    "    #print(yAxis)\n",
    "    df1['yAxis']=yAxis\n",
    "    cov_score=df1[\"Coverage subscore\"].tolist()\n",
    "    \n",
    "    mod_sub_score=[]\n",
    "    seen={}\n",
    "    for x in cov_score:\n",
    "        #print(x)\n",
    "        if x in seen:\n",
    "            #print(\"bin in if\")\n",
    "            key_seen=seen[x]\n",
    "            key_seen=key_seen-0.7\n",
    "            seen[x]=key_seen\n",
    "            mod=x+key_seen\n",
    "            #print(\"mod \"+str(mod))\n",
    "            #print(\"seen[x] \"+str(seen[x]))\n",
    "            mod_sub_score.append(mod)\n",
    "            #print()\n",
    "        else:\n",
    "            #print(\"bin in else\")\n",
    "            seen[x]=0\n",
    "            mod_sub_score.append(x)\n",
    "            #print()\n",
    "    #print(cov_score)\n",
    "    #print(mod_sub_score)\n",
    "    df1['mod_sub_score']=mod_sub_score\n",
    "    \n",
    "    size=[10 for x in range(0,26)]\n",
    "    df1['size']=size\n",
    "    \n",
    "    df2=pd.DataFrame(np.repeat(df1.values, 10, axis=0))\n",
    "\n",
    "    df2.columns=df1.columns\n",
    "    \n",
    "    listeY=[]\n",
    "    x=0.9\n",
    "    for i in range(0,10):\n",
    "        listeY.append(x)\n",
    "        x=x-float(0.1)\n",
    "\n",
    "    x=-0.9\n",
    "    for i in range(0,10):\n",
    "        listeY.append(x)\n",
    "        x=x+float(0.1)\n",
    "\n",
    "    #print(listeY)\n",
    "\n",
    "    yAxis=[]\n",
    "    for i in range(0,13):\n",
    "        yAxis=yAxis+listeY\n",
    "\n",
    "\n",
    "    df2[\"yAxis\"]=yAxis\n",
    "    \n",
    "    years=[]\n",
    "    x=0\n",
    "    for i in range(0,10):\n",
    "        years.append(x)\n",
    "        x=x+1\n",
    "\n",
    "    years1=[]\n",
    "    for i in range(0,26):\n",
    "        years1=years1+years\n",
    "\n",
    "\n",
    "    df2[\"Year\"]=years1\n",
    "    \n",
    "    df2 = df2.rename(columns={'Year': 'Animation'})     \n",
    "    size=[70 for x in range(0,260)]\n",
    "    df2[\"size\"]=size\n",
    "    df2[\"color\"]=[\"All Categories Score\" for x in range(0,260)]\n",
    "    \n",
    "    df2[\"score_text\"]=[\"\" for x in range(0,260)]\n",
    "    \n",
    "    df2.loc[df2['Data categories'] == \"All Categories\", \"score_text\"] = \"All Categories Score\"\n",
    "    #Environment subscore\n",
    "    df2.loc[df2['Data categories'] == \"Environment subscore\", \"score_text\"] = \"Environmental statistics\"\n",
    "    #Social statistics subscore\n",
    "    df2.loc[df2['Data categories'] == \"Social statistics subscore\", \"score_text\"] = \"Social statistics\"\n",
    "    #Economic & financial statistics subscore\n",
    "    df2.loc[df2['Data categories'] == \"Economic & financial statistics subscore\", \"score_text\"] = \"Economic & financial statistics\"\n",
    "    #change size\n",
    "    df2.loc[df2['score_text']!=\"\", \"size\"] = 120\n",
    "    #delete text in the end of animation\n",
    "    df2.loc[abs(df2['yAxis'])<0.15, \"score_text\"] = \"\"\n",
    "    \n",
    "    economical=[\"National accounts\", \"Labor\", \"Price indexes\", \"Government finance\", \"Money & banking\", \"International trade\", \"Balance of payments\", \"Economic & financial statistics subscore\" ]\n",
    "    social=[\"Population & vital statistics\",\"Education facilities\",\"Education outcomes\",\"Health facilities\",\"Health outcomes\",\"Reproductive health\",\n",
    "           \"Food security & nutrition\", \"Gender statistics\", \"Crime & justice\", \"Poverty & income\", \"Social statistics subscore\"]\n",
    "    enviroment=[\"Agriculture & Land Use\", \"Resource use\", \"Energy\", \"Pollution\", \"Built environment\", \"Environment subscore\",]\n",
    "\n",
    "    \n",
    "    df2.loc[df2['Data categories'].isin(economical), 'color']=\"Economic & financial statistics\"\n",
    "\n",
    "    \n",
    "    df2.loc[df2['Data categories'].isin(social), 'color']='Social statistics'\n",
    "\n",
    "    \n",
    "    df2.loc[df2['Data categories'].isin(enviroment), 'color']='Environmental statistics'\n",
    "    \n",
    " \n",
    "    df2 = df2.rename(columns={'mod_sub_score': 'Data Categories Scores', \"color\": 'Color Legend'}) \n",
    "\n",
    "    return df2\n",
    "\n",
    "\n",
    "data_frames_prepaired={}\n",
    "#prepare dataframes for plotly \n",
    "for data_frame in data_frames:\n",
    "    data_frame_prepaired=preprocessing_dataFrame(data_frame)\n",
    "    df_country=data_frame[\"Country\"].unique()[0]\n",
    "    data_frames_prepaired[df_country]=data_frame_prepaired\n",
    "    \n",
    "\n"
   ]
  },
  {
   "cell_type": "code",
   "execution_count": 72,
   "metadata": {},
   "outputs": [
    {
     "data": {
      "application/vnd.plotly.v1+json": {
       "config": {
        "plotlyServerURL": "https://plot.ly"
       },
       "data": [
        {
         "customdata": [
          [
           "Population & vital statistics"
          ],
          [
           "Education facilities"
          ],
          [
           "Education outcomes"
          ],
          [
           "Health facilities"
          ],
          [
           "Health outcomes"
          ],
          [
           "Reproductive health"
          ],
          [
           "Food security & nutrition"
          ],
          [
           "Gender statistics"
          ],
          [
           "Crime & justice"
          ],
          [
           "Poverty & income"
          ],
          [
           "Social statistics subscore"
          ]
         ],
         "hovertemplate": "%{customdata[0]}<extra></extra>",
         "ids": [
          "Population & vital statistics",
          "Education facilities",
          "Education outcomes",
          "Health facilities",
          "Health outcomes",
          "Reproductive health",
          "Food security & nutrition",
          "Gender statistics",
          "Crime & justice",
          "Poverty & income",
          "Social statistics subscore"
         ],
         "legendgroup": "Social statistics",
         "marker": {
          "color": "RebeccaPurple",
          "size": [
           70,
           70,
           70,
           70,
           70,
           70,
           70,
           70,
           70,
           70,
           120
          ],
          "sizemode": "area",
          "sizeref": 0.3,
          "symbol": "circle"
         },
         "mode": "markers+text",
         "name": "Social statistics",
         "orientation": "v",
         "showlegend": true,
         "text": [
          "",
          "",
          "",
          "",
          "",
          "",
          "",
          "",
          "",
          "",
          "Social statistics"
         ],
         "textfont": {
          "color": "Black"
         },
         "textposition": "top center",
         "type": "scatter",
         "x": [
          60,
          30,
          29.3,
          28.6,
          20,
          27.9,
          12.5,
          40,
          39.3,
          59.3,
          35.7
         ],
         "xaxis": "x",
         "y": [
          0.9,
          -0.9,
          0.9,
          -0.9,
          0.9,
          -0.9,
          0.9,
          -0.9,
          0.9,
          -0.9,
          0.9
         ],
         "yaxis": "y"
        },
        {
         "customdata": [
          [
           "National accounts"
          ],
          [
           "Labor"
          ],
          [
           "Price indexes"
          ],
          [
           "Government finance"
          ],
          [
           "Money & banking"
          ],
          [
           "International trade"
          ],
          [
           "Balance of payments"
          ],
          [
           "Economic & financial statistics subscore"
          ]
         ],
         "hovertemplate": "%{customdata[0]}<extra></extra>",
         "ids": [
          "National accounts",
          "Labor",
          "Price indexes",
          "Government finance",
          "Money & banking",
          "International trade",
          "Balance of payments",
          "Economic & financial statistics subscore"
         ],
         "legendgroup": "Economic & financial statistics",
         "marker": {
          "color": "red",
          "size": [
           70,
           70,
           70,
           70,
           70,
           70,
           70,
           120
          ],
          "sizemode": "area",
          "sizeref": 0.3,
          "symbol": "circle"
         },
         "mode": "markers+text",
         "name": "Economic & financial statistics",
         "orientation": "v",
         "showlegend": true,
         "text": [
          "",
          "",
          "",
          "",
          "",
          "",
          "",
          "Economic & financial statistics"
         ],
         "textfont": {
          "color": "Black"
         },
         "textposition": "top center",
         "type": "scatter",
         "x": [
          37.5,
          58.6,
          36.8,
          75,
          100,
          50,
          99.3,
          63.5
         ],
         "xaxis": "x",
         "y": [
          -0.9,
          0.9,
          -0.9,
          0.9,
          -0.9,
          0.9,
          -0.9,
          0.9
         ],
         "yaxis": "y"
        },
        {
         "customdata": [
          [
           "Agriculture & Land Use"
          ],
          [
           "Resource use"
          ],
          [
           "Energy"
          ],
          [
           "Pollution"
          ],
          [
           "Built environment"
          ],
          [
           "Environment subscore"
          ]
         ],
         "hovertemplate": "%{customdata[0]}<extra></extra>",
         "ids": [
          "Agriculture & Land Use",
          "Resource use",
          "Energy",
          "Pollution",
          "Built environment",
          "Environment subscore"
         ],
         "legendgroup": "Environmental statistics",
         "marker": {
          "color": "#021988",
          "size": [
           70,
           70,
           70,
           70,
           70,
           120
          ],
          "sizemode": "area",
          "sizeref": 0.3,
          "symbol": "circle"
         },
         "mode": "markers+text",
         "name": "Environmental statistics",
         "orientation": "v",
         "showlegend": true,
         "text": [
          "",
          "",
          "",
          "",
          "",
          "Environmental statistics"
         ],
         "textfont": {
          "color": "Black"
         },
         "textposition": "top center",
         "type": "scatter",
         "x": [
          27.2,
          62.5,
          49.3,
          74.3,
          38.6,
          48.6
         ],
         "xaxis": "x",
         "y": [
          -0.9,
          0.9,
          -0.9,
          0.9,
          -0.9,
          0.9
         ],
         "yaxis": "y"
        },
        {
         "customdata": [
          [
           "All Categories"
          ]
         ],
         "hovertemplate": "%{customdata[0]}<extra></extra>",
         "ids": [
          "All Categories"
         ],
         "legendgroup": "All Categories Score",
         "marker": {
          "color": "black",
          "size": [
           120
          ],
          "sizemode": "area",
          "sizeref": 0.3,
          "symbol": "circle"
         },
         "mode": "markers+text",
         "name": "All Categories Score",
         "orientation": "v",
         "showlegend": true,
         "text": [
          "All Categories Score"
         ],
         "textfont": {
          "color": "Black"
         },
         "textposition": "top center",
         "type": "scatter",
         "x": [
          48.4
         ],
         "xaxis": "x",
         "y": [
          -0.9
         ],
         "yaxis": "y"
        }
       ],
       "frames": [
        {
         "data": [
          {
           "customdata": [
            [
             "Population & vital statistics"
            ],
            [
             "Education facilities"
            ],
            [
             "Education outcomes"
            ],
            [
             "Health facilities"
            ],
            [
             "Health outcomes"
            ],
            [
             "Reproductive health"
            ],
            [
             "Food security & nutrition"
            ],
            [
             "Gender statistics"
            ],
            [
             "Crime & justice"
            ],
            [
             "Poverty & income"
            ],
            [
             "Social statistics subscore"
            ]
           ],
           "hovertemplate": "%{customdata[0]}<extra></extra>",
           "ids": [
            "Population & vital statistics",
            "Education facilities",
            "Education outcomes",
            "Health facilities",
            "Health outcomes",
            "Reproductive health",
            "Food security & nutrition",
            "Gender statistics",
            "Crime & justice",
            "Poverty & income",
            "Social statistics subscore"
           ],
           "legendgroup": "Social statistics",
           "marker": {
            "color": "RebeccaPurple",
            "size": [
             70,
             70,
             70,
             70,
             70,
             70,
             70,
             70,
             70,
             70,
             120
            ],
            "sizemode": "area",
            "sizeref": 0.3,
            "symbol": "circle"
           },
           "mode": "markers+text",
           "name": "Social statistics",
           "orientation": "v",
           "showlegend": true,
           "text": [
            "",
            "",
            "",
            "",
            "",
            "",
            "",
            "",
            "",
            "",
            "Social statistics"
           ],
           "type": "scatter",
           "x": [
            60,
            30,
            29.3,
            28.6,
            20,
            27.9,
            12.5,
            40,
            39.3,
            59.3,
            35.7
           ],
           "xaxis": "x",
           "y": [
            0.9,
            -0.9,
            0.9,
            -0.9,
            0.9,
            -0.9,
            0.9,
            -0.9,
            0.9,
            -0.9,
            0.9
           ],
           "yaxis": "y"
          },
          {
           "customdata": [
            [
             "National accounts"
            ],
            [
             "Labor"
            ],
            [
             "Price indexes"
            ],
            [
             "Government finance"
            ],
            [
             "Money & banking"
            ],
            [
             "International trade"
            ],
            [
             "Balance of payments"
            ],
            [
             "Economic & financial statistics subscore"
            ]
           ],
           "hovertemplate": "%{customdata[0]}<extra></extra>",
           "ids": [
            "National accounts",
            "Labor",
            "Price indexes",
            "Government finance",
            "Money & banking",
            "International trade",
            "Balance of payments",
            "Economic & financial statistics subscore"
           ],
           "legendgroup": "Economic & financial statistics",
           "marker": {
            "color": "red",
            "size": [
             70,
             70,
             70,
             70,
             70,
             70,
             70,
             120
            ],
            "sizemode": "area",
            "sizeref": 0.3,
            "symbol": "circle"
           },
           "mode": "markers+text",
           "name": "Economic & financial statistics",
           "orientation": "v",
           "showlegend": true,
           "text": [
            "",
            "",
            "",
            "",
            "",
            "",
            "",
            "Economic & financial statistics"
           ],
           "type": "scatter",
           "x": [
            37.5,
            58.6,
            36.8,
            75,
            100,
            50,
            99.3,
            63.5
           ],
           "xaxis": "x",
           "y": [
            -0.9,
            0.9,
            -0.9,
            0.9,
            -0.9,
            0.9,
            -0.9,
            0.9
           ],
           "yaxis": "y"
          },
          {
           "customdata": [
            [
             "Agriculture & Land Use"
            ],
            [
             "Resource use"
            ],
            [
             "Energy"
            ],
            [
             "Pollution"
            ],
            [
             "Built environment"
            ],
            [
             "Environment subscore"
            ]
           ],
           "hovertemplate": "%{customdata[0]}<extra></extra>",
           "ids": [
            "Agriculture & Land Use",
            "Resource use",
            "Energy",
            "Pollution",
            "Built environment",
            "Environment subscore"
           ],
           "legendgroup": "Environmental statistics",
           "marker": {
            "color": "#021988",
            "size": [
             70,
             70,
             70,
             70,
             70,
             120
            ],
            "sizemode": "area",
            "sizeref": 0.3,
            "symbol": "circle"
           },
           "mode": "markers+text",
           "name": "Environmental statistics",
           "orientation": "v",
           "showlegend": true,
           "text": [
            "",
            "",
            "",
            "",
            "",
            "Environmental statistics"
           ],
           "type": "scatter",
           "x": [
            27.2,
            62.5,
            49.3,
            74.3,
            38.6,
            48.6
           ],
           "xaxis": "x",
           "y": [
            -0.9,
            0.9,
            -0.9,
            0.9,
            -0.9,
            0.9
           ],
           "yaxis": "y"
          },
          {
           "customdata": [
            [
             "All Categories"
            ]
           ],
           "hovertemplate": "%{customdata[0]}<extra></extra>",
           "ids": [
            "All Categories"
           ],
           "legendgroup": "All Categories Score",
           "marker": {
            "color": "black",
            "size": [
             120
            ],
            "sizemode": "area",
            "sizeref": 0.3,
            "symbol": "circle"
           },
           "mode": "markers+text",
           "name": "All Categories Score",
           "orientation": "v",
           "showlegend": true,
           "text": [
            "All Categories Score"
           ],
           "type": "scatter",
           "x": [
            48.4
           ],
           "xaxis": "x",
           "y": [
            -0.9
           ],
           "yaxis": "y"
          }
         ],
         "name": "0"
        },
        {
         "data": [
          {
           "customdata": [
            [
             "Population & vital statistics"
            ],
            [
             "Education facilities"
            ],
            [
             "Education outcomes"
            ],
            [
             "Health facilities"
            ],
            [
             "Health outcomes"
            ],
            [
             "Reproductive health"
            ],
            [
             "Food security & nutrition"
            ],
            [
             "Gender statistics"
            ],
            [
             "Crime & justice"
            ],
            [
             "Poverty & income"
            ],
            [
             "Social statistics subscore"
            ]
           ],
           "hovertemplate": "%{customdata[0]}<extra></extra>",
           "ids": [
            "Population & vital statistics",
            "Education facilities",
            "Education outcomes",
            "Health facilities",
            "Health outcomes",
            "Reproductive health",
            "Food security & nutrition",
            "Gender statistics",
            "Crime & justice",
            "Poverty & income",
            "Social statistics subscore"
           ],
           "legendgroup": "Social statistics",
           "marker": {
            "color": "RebeccaPurple",
            "size": [
             70,
             70,
             70,
             70,
             70,
             70,
             70,
             70,
             70,
             70,
             120
            ],
            "sizemode": "area",
            "sizeref": 0.3,
            "symbol": "circle"
           },
           "mode": "markers+text",
           "name": "Social statistics",
           "orientation": "v",
           "showlegend": true,
           "text": [
            "",
            "",
            "",
            "",
            "",
            "",
            "",
            "",
            "",
            "",
            "Social statistics"
           ],
           "type": "scatter",
           "x": [
            60,
            30,
            29.3,
            28.6,
            20,
            27.9,
            12.5,
            40,
            39.3,
            59.3,
            35.7
           ],
           "xaxis": "x",
           "y": [
            0.8,
            -0.8,
            0.8,
            -0.8,
            0.8,
            -0.8,
            0.8,
            -0.8,
            0.8,
            -0.8,
            0.8
           ],
           "yaxis": "y"
          },
          {
           "customdata": [
            [
             "National accounts"
            ],
            [
             "Labor"
            ],
            [
             "Price indexes"
            ],
            [
             "Government finance"
            ],
            [
             "Money & banking"
            ],
            [
             "International trade"
            ],
            [
             "Balance of payments"
            ],
            [
             "Economic & financial statistics subscore"
            ]
           ],
           "hovertemplate": "%{customdata[0]}<extra></extra>",
           "ids": [
            "National accounts",
            "Labor",
            "Price indexes",
            "Government finance",
            "Money & banking",
            "International trade",
            "Balance of payments",
            "Economic & financial statistics subscore"
           ],
           "legendgroup": "Economic & financial statistics",
           "marker": {
            "color": "red",
            "size": [
             70,
             70,
             70,
             70,
             70,
             70,
             70,
             120
            ],
            "sizemode": "area",
            "sizeref": 0.3,
            "symbol": "circle"
           },
           "mode": "markers+text",
           "name": "Economic & financial statistics",
           "orientation": "v",
           "showlegend": true,
           "text": [
            "",
            "",
            "",
            "",
            "",
            "",
            "",
            "Economic & financial statistics"
           ],
           "type": "scatter",
           "x": [
            37.5,
            58.6,
            36.8,
            75,
            100,
            50,
            99.3,
            63.5
           ],
           "xaxis": "x",
           "y": [
            -0.8,
            0.8,
            -0.8,
            0.8,
            -0.8,
            0.8,
            -0.8,
            0.8
           ],
           "yaxis": "y"
          },
          {
           "customdata": [
            [
             "Agriculture & Land Use"
            ],
            [
             "Resource use"
            ],
            [
             "Energy"
            ],
            [
             "Pollution"
            ],
            [
             "Built environment"
            ],
            [
             "Environment subscore"
            ]
           ],
           "hovertemplate": "%{customdata[0]}<extra></extra>",
           "ids": [
            "Agriculture & Land Use",
            "Resource use",
            "Energy",
            "Pollution",
            "Built environment",
            "Environment subscore"
           ],
           "legendgroup": "Environmental statistics",
           "marker": {
            "color": "#021988",
            "size": [
             70,
             70,
             70,
             70,
             70,
             120
            ],
            "sizemode": "area",
            "sizeref": 0.3,
            "symbol": "circle"
           },
           "mode": "markers+text",
           "name": "Environmental statistics",
           "orientation": "v",
           "showlegend": true,
           "text": [
            "",
            "",
            "",
            "",
            "",
            "Environmental statistics"
           ],
           "type": "scatter",
           "x": [
            27.2,
            62.5,
            49.3,
            74.3,
            38.6,
            48.6
           ],
           "xaxis": "x",
           "y": [
            -0.8,
            0.8,
            -0.8,
            0.8,
            -0.8,
            0.8
           ],
           "yaxis": "y"
          },
          {
           "customdata": [
            [
             "All Categories"
            ]
           ],
           "hovertemplate": "%{customdata[0]}<extra></extra>",
           "ids": [
            "All Categories"
           ],
           "legendgroup": "All Categories Score",
           "marker": {
            "color": "black",
            "size": [
             120
            ],
            "sizemode": "area",
            "sizeref": 0.3,
            "symbol": "circle"
           },
           "mode": "markers+text",
           "name": "All Categories Score",
           "orientation": "v",
           "showlegend": true,
           "text": [
            "All Categories Score"
           ],
           "type": "scatter",
           "x": [
            48.4
           ],
           "xaxis": "x",
           "y": [
            -0.8
           ],
           "yaxis": "y"
          }
         ],
         "name": "1"
        },
        {
         "data": [
          {
           "customdata": [
            [
             "Population & vital statistics"
            ],
            [
             "Education facilities"
            ],
            [
             "Education outcomes"
            ],
            [
             "Health facilities"
            ],
            [
             "Health outcomes"
            ],
            [
             "Reproductive health"
            ],
            [
             "Food security & nutrition"
            ],
            [
             "Gender statistics"
            ],
            [
             "Crime & justice"
            ],
            [
             "Poverty & income"
            ],
            [
             "Social statistics subscore"
            ]
           ],
           "hovertemplate": "%{customdata[0]}<extra></extra>",
           "ids": [
            "Population & vital statistics",
            "Education facilities",
            "Education outcomes",
            "Health facilities",
            "Health outcomes",
            "Reproductive health",
            "Food security & nutrition",
            "Gender statistics",
            "Crime & justice",
            "Poverty & income",
            "Social statistics subscore"
           ],
           "legendgroup": "Social statistics",
           "marker": {
            "color": "RebeccaPurple",
            "size": [
             70,
             70,
             70,
             70,
             70,
             70,
             70,
             70,
             70,
             70,
             120
            ],
            "sizemode": "area",
            "sizeref": 0.3,
            "symbol": "circle"
           },
           "mode": "markers+text",
           "name": "Social statistics",
           "orientation": "v",
           "showlegend": true,
           "text": [
            "",
            "",
            "",
            "",
            "",
            "",
            "",
            "",
            "",
            "",
            "Social statistics"
           ],
           "type": "scatter",
           "x": [
            60,
            30,
            29.3,
            28.6,
            20,
            27.9,
            12.5,
            40,
            39.3,
            59.3,
            35.7
           ],
           "xaxis": "x",
           "y": [
            0.7000000000000001,
            -0.7000000000000001,
            0.7000000000000001,
            -0.7000000000000001,
            0.7000000000000001,
            -0.7000000000000001,
            0.7000000000000001,
            -0.7000000000000001,
            0.7000000000000001,
            -0.7000000000000001,
            0.7000000000000001
           ],
           "yaxis": "y"
          },
          {
           "customdata": [
            [
             "National accounts"
            ],
            [
             "Labor"
            ],
            [
             "Price indexes"
            ],
            [
             "Government finance"
            ],
            [
             "Money & banking"
            ],
            [
             "International trade"
            ],
            [
             "Balance of payments"
            ],
            [
             "Economic & financial statistics subscore"
            ]
           ],
           "hovertemplate": "%{customdata[0]}<extra></extra>",
           "ids": [
            "National accounts",
            "Labor",
            "Price indexes",
            "Government finance",
            "Money & banking",
            "International trade",
            "Balance of payments",
            "Economic & financial statistics subscore"
           ],
           "legendgroup": "Economic & financial statistics",
           "marker": {
            "color": "red",
            "size": [
             70,
             70,
             70,
             70,
             70,
             70,
             70,
             120
            ],
            "sizemode": "area",
            "sizeref": 0.3,
            "symbol": "circle"
           },
           "mode": "markers+text",
           "name": "Economic & financial statistics",
           "orientation": "v",
           "showlegend": true,
           "text": [
            "",
            "",
            "",
            "",
            "",
            "",
            "",
            "Economic & financial statistics"
           ],
           "type": "scatter",
           "x": [
            37.5,
            58.6,
            36.8,
            75,
            100,
            50,
            99.3,
            63.5
           ],
           "xaxis": "x",
           "y": [
            -0.7000000000000001,
            0.7000000000000001,
            -0.7000000000000001,
            0.7000000000000001,
            -0.7000000000000001,
            0.7000000000000001,
            -0.7000000000000001,
            0.7000000000000001
           ],
           "yaxis": "y"
          },
          {
           "customdata": [
            [
             "Agriculture & Land Use"
            ],
            [
             "Resource use"
            ],
            [
             "Energy"
            ],
            [
             "Pollution"
            ],
            [
             "Built environment"
            ],
            [
             "Environment subscore"
            ]
           ],
           "hovertemplate": "%{customdata[0]}<extra></extra>",
           "ids": [
            "Agriculture & Land Use",
            "Resource use",
            "Energy",
            "Pollution",
            "Built environment",
            "Environment subscore"
           ],
           "legendgroup": "Environmental statistics",
           "marker": {
            "color": "#021988",
            "size": [
             70,
             70,
             70,
             70,
             70,
             120
            ],
            "sizemode": "area",
            "sizeref": 0.3,
            "symbol": "circle"
           },
           "mode": "markers+text",
           "name": "Environmental statistics",
           "orientation": "v",
           "showlegend": true,
           "text": [
            "",
            "",
            "",
            "",
            "",
            "Environmental statistics"
           ],
           "type": "scatter",
           "x": [
            27.2,
            62.5,
            49.3,
            74.3,
            38.6,
            48.6
           ],
           "xaxis": "x",
           "y": [
            -0.7000000000000001,
            0.7000000000000001,
            -0.7000000000000001,
            0.7000000000000001,
            -0.7000000000000001,
            0.7000000000000001
           ],
           "yaxis": "y"
          },
          {
           "customdata": [
            [
             "All Categories"
            ]
           ],
           "hovertemplate": "%{customdata[0]}<extra></extra>",
           "ids": [
            "All Categories"
           ],
           "legendgroup": "All Categories Score",
           "marker": {
            "color": "black",
            "size": [
             120
            ],
            "sizemode": "area",
            "sizeref": 0.3,
            "symbol": "circle"
           },
           "mode": "markers+text",
           "name": "All Categories Score",
           "orientation": "v",
           "showlegend": true,
           "text": [
            "All Categories Score"
           ],
           "type": "scatter",
           "x": [
            48.4
           ],
           "xaxis": "x",
           "y": [
            -0.7000000000000001
           ],
           "yaxis": "y"
          }
         ],
         "name": "2"
        },
        {
         "data": [
          {
           "customdata": [
            [
             "Population & vital statistics"
            ],
            [
             "Education facilities"
            ],
            [
             "Education outcomes"
            ],
            [
             "Health facilities"
            ],
            [
             "Health outcomes"
            ],
            [
             "Reproductive health"
            ],
            [
             "Food security & nutrition"
            ],
            [
             "Gender statistics"
            ],
            [
             "Crime & justice"
            ],
            [
             "Poverty & income"
            ],
            [
             "Social statistics subscore"
            ]
           ],
           "hovertemplate": "%{customdata[0]}<extra></extra>",
           "ids": [
            "Population & vital statistics",
            "Education facilities",
            "Education outcomes",
            "Health facilities",
            "Health outcomes",
            "Reproductive health",
            "Food security & nutrition",
            "Gender statistics",
            "Crime & justice",
            "Poverty & income",
            "Social statistics subscore"
           ],
           "legendgroup": "Social statistics",
           "marker": {
            "color": "RebeccaPurple",
            "size": [
             70,
             70,
             70,
             70,
             70,
             70,
             70,
             70,
             70,
             70,
             120
            ],
            "sizemode": "area",
            "sizeref": 0.3,
            "symbol": "circle"
           },
           "mode": "markers+text",
           "name": "Social statistics",
           "orientation": "v",
           "showlegend": true,
           "text": [
            "",
            "",
            "",
            "",
            "",
            "",
            "",
            "",
            "",
            "",
            "Social statistics"
           ],
           "type": "scatter",
           "x": [
            60,
            30,
            29.3,
            28.6,
            20,
            27.9,
            12.5,
            40,
            39.3,
            59.3,
            35.7
           ],
           "xaxis": "x",
           "y": [
            0.6000000000000001,
            -0.6000000000000001,
            0.6000000000000001,
            -0.6000000000000001,
            0.6000000000000001,
            -0.6000000000000001,
            0.6000000000000001,
            -0.6000000000000001,
            0.6000000000000001,
            -0.6000000000000001,
            0.6000000000000001
           ],
           "yaxis": "y"
          },
          {
           "customdata": [
            [
             "National accounts"
            ],
            [
             "Labor"
            ],
            [
             "Price indexes"
            ],
            [
             "Government finance"
            ],
            [
             "Money & banking"
            ],
            [
             "International trade"
            ],
            [
             "Balance of payments"
            ],
            [
             "Economic & financial statistics subscore"
            ]
           ],
           "hovertemplate": "%{customdata[0]}<extra></extra>",
           "ids": [
            "National accounts",
            "Labor",
            "Price indexes",
            "Government finance",
            "Money & banking",
            "International trade",
            "Balance of payments",
            "Economic & financial statistics subscore"
           ],
           "legendgroup": "Economic & financial statistics",
           "marker": {
            "color": "red",
            "size": [
             70,
             70,
             70,
             70,
             70,
             70,
             70,
             120
            ],
            "sizemode": "area",
            "sizeref": 0.3,
            "symbol": "circle"
           },
           "mode": "markers+text",
           "name": "Economic & financial statistics",
           "orientation": "v",
           "showlegend": true,
           "text": [
            "",
            "",
            "",
            "",
            "",
            "",
            "",
            "Economic & financial statistics"
           ],
           "type": "scatter",
           "x": [
            37.5,
            58.6,
            36.8,
            75,
            100,
            50,
            99.3,
            63.5
           ],
           "xaxis": "x",
           "y": [
            -0.6000000000000001,
            0.6000000000000001,
            -0.6000000000000001,
            0.6000000000000001,
            -0.6000000000000001,
            0.6000000000000001,
            -0.6000000000000001,
            0.6000000000000001
           ],
           "yaxis": "y"
          },
          {
           "customdata": [
            [
             "Agriculture & Land Use"
            ],
            [
             "Resource use"
            ],
            [
             "Energy"
            ],
            [
             "Pollution"
            ],
            [
             "Built environment"
            ],
            [
             "Environment subscore"
            ]
           ],
           "hovertemplate": "%{customdata[0]}<extra></extra>",
           "ids": [
            "Agriculture & Land Use",
            "Resource use",
            "Energy",
            "Pollution",
            "Built environment",
            "Environment subscore"
           ],
           "legendgroup": "Environmental statistics",
           "marker": {
            "color": "#021988",
            "size": [
             70,
             70,
             70,
             70,
             70,
             120
            ],
            "sizemode": "area",
            "sizeref": 0.3,
            "symbol": "circle"
           },
           "mode": "markers+text",
           "name": "Environmental statistics",
           "orientation": "v",
           "showlegend": true,
           "text": [
            "",
            "",
            "",
            "",
            "",
            "Environmental statistics"
           ],
           "type": "scatter",
           "x": [
            27.2,
            62.5,
            49.3,
            74.3,
            38.6,
            48.6
           ],
           "xaxis": "x",
           "y": [
            -0.6000000000000001,
            0.6000000000000001,
            -0.6000000000000001,
            0.6000000000000001,
            -0.6000000000000001,
            0.6000000000000001
           ],
           "yaxis": "y"
          },
          {
           "customdata": [
            [
             "All Categories"
            ]
           ],
           "hovertemplate": "%{customdata[0]}<extra></extra>",
           "ids": [
            "All Categories"
           ],
           "legendgroup": "All Categories Score",
           "marker": {
            "color": "black",
            "size": [
             120
            ],
            "sizemode": "area",
            "sizeref": 0.3,
            "symbol": "circle"
           },
           "mode": "markers+text",
           "name": "All Categories Score",
           "orientation": "v",
           "showlegend": true,
           "text": [
            "All Categories Score"
           ],
           "type": "scatter",
           "x": [
            48.4
           ],
           "xaxis": "x",
           "y": [
            -0.6000000000000001
           ],
           "yaxis": "y"
          }
         ],
         "name": "3"
        },
        {
         "data": [
          {
           "customdata": [
            [
             "Population & vital statistics"
            ],
            [
             "Education facilities"
            ],
            [
             "Education outcomes"
            ],
            [
             "Health facilities"
            ],
            [
             "Health outcomes"
            ],
            [
             "Reproductive health"
            ],
            [
             "Food security & nutrition"
            ],
            [
             "Gender statistics"
            ],
            [
             "Crime & justice"
            ],
            [
             "Poverty & income"
            ],
            [
             "Social statistics subscore"
            ]
           ],
           "hovertemplate": "%{customdata[0]}<extra></extra>",
           "ids": [
            "Population & vital statistics",
            "Education facilities",
            "Education outcomes",
            "Health facilities",
            "Health outcomes",
            "Reproductive health",
            "Food security & nutrition",
            "Gender statistics",
            "Crime & justice",
            "Poverty & income",
            "Social statistics subscore"
           ],
           "legendgroup": "Social statistics",
           "marker": {
            "color": "RebeccaPurple",
            "size": [
             70,
             70,
             70,
             70,
             70,
             70,
             70,
             70,
             70,
             70,
             120
            ],
            "sizemode": "area",
            "sizeref": 0.3,
            "symbol": "circle"
           },
           "mode": "markers+text",
           "name": "Social statistics",
           "orientation": "v",
           "showlegend": true,
           "text": [
            "",
            "",
            "",
            "",
            "",
            "",
            "",
            "",
            "",
            "",
            "Social statistics"
           ],
           "type": "scatter",
           "x": [
            60,
            30,
            29.3,
            28.6,
            20,
            27.9,
            12.5,
            40,
            39.3,
            59.3,
            35.7
           ],
           "xaxis": "x",
           "y": [
            0.5000000000000001,
            -0.5000000000000001,
            0.5000000000000001,
            -0.5000000000000001,
            0.5000000000000001,
            -0.5000000000000001,
            0.5000000000000001,
            -0.5000000000000001,
            0.5000000000000001,
            -0.5000000000000001,
            0.5000000000000001
           ],
           "yaxis": "y"
          },
          {
           "customdata": [
            [
             "National accounts"
            ],
            [
             "Labor"
            ],
            [
             "Price indexes"
            ],
            [
             "Government finance"
            ],
            [
             "Money & banking"
            ],
            [
             "International trade"
            ],
            [
             "Balance of payments"
            ],
            [
             "Economic & financial statistics subscore"
            ]
           ],
           "hovertemplate": "%{customdata[0]}<extra></extra>",
           "ids": [
            "National accounts",
            "Labor",
            "Price indexes",
            "Government finance",
            "Money & banking",
            "International trade",
            "Balance of payments",
            "Economic & financial statistics subscore"
           ],
           "legendgroup": "Economic & financial statistics",
           "marker": {
            "color": "red",
            "size": [
             70,
             70,
             70,
             70,
             70,
             70,
             70,
             120
            ],
            "sizemode": "area",
            "sizeref": 0.3,
            "symbol": "circle"
           },
           "mode": "markers+text",
           "name": "Economic & financial statistics",
           "orientation": "v",
           "showlegend": true,
           "text": [
            "",
            "",
            "",
            "",
            "",
            "",
            "",
            "Economic & financial statistics"
           ],
           "type": "scatter",
           "x": [
            37.5,
            58.6,
            36.8,
            75,
            100,
            50,
            99.3,
            63.5
           ],
           "xaxis": "x",
           "y": [
            -0.5000000000000001,
            0.5000000000000001,
            -0.5000000000000001,
            0.5000000000000001,
            -0.5000000000000001,
            0.5000000000000001,
            -0.5000000000000001,
            0.5000000000000001
           ],
           "yaxis": "y"
          },
          {
           "customdata": [
            [
             "Agriculture & Land Use"
            ],
            [
             "Resource use"
            ],
            [
             "Energy"
            ],
            [
             "Pollution"
            ],
            [
             "Built environment"
            ],
            [
             "Environment subscore"
            ]
           ],
           "hovertemplate": "%{customdata[0]}<extra></extra>",
           "ids": [
            "Agriculture & Land Use",
            "Resource use",
            "Energy",
            "Pollution",
            "Built environment",
            "Environment subscore"
           ],
           "legendgroup": "Environmental statistics",
           "marker": {
            "color": "#021988",
            "size": [
             70,
             70,
             70,
             70,
             70,
             120
            ],
            "sizemode": "area",
            "sizeref": 0.3,
            "symbol": "circle"
           },
           "mode": "markers+text",
           "name": "Environmental statistics",
           "orientation": "v",
           "showlegend": true,
           "text": [
            "",
            "",
            "",
            "",
            "",
            "Environmental statistics"
           ],
           "type": "scatter",
           "x": [
            27.2,
            62.5,
            49.3,
            74.3,
            38.6,
            48.6
           ],
           "xaxis": "x",
           "y": [
            -0.5000000000000001,
            0.5000000000000001,
            -0.5000000000000001,
            0.5000000000000001,
            -0.5000000000000001,
            0.5000000000000001
           ],
           "yaxis": "y"
          },
          {
           "customdata": [
            [
             "All Categories"
            ]
           ],
           "hovertemplate": "%{customdata[0]}<extra></extra>",
           "ids": [
            "All Categories"
           ],
           "legendgroup": "All Categories Score",
           "marker": {
            "color": "black",
            "size": [
             120
            ],
            "sizemode": "area",
            "sizeref": 0.3,
            "symbol": "circle"
           },
           "mode": "markers+text",
           "name": "All Categories Score",
           "orientation": "v",
           "showlegend": true,
           "text": [
            "All Categories Score"
           ],
           "type": "scatter",
           "x": [
            48.4
           ],
           "xaxis": "x",
           "y": [
            -0.5000000000000001
           ],
           "yaxis": "y"
          }
         ],
         "name": "4"
        },
        {
         "data": [
          {
           "customdata": [
            [
             "Population & vital statistics"
            ],
            [
             "Education facilities"
            ],
            [
             "Education outcomes"
            ],
            [
             "Health facilities"
            ],
            [
             "Health outcomes"
            ],
            [
             "Reproductive health"
            ],
            [
             "Food security & nutrition"
            ],
            [
             "Gender statistics"
            ],
            [
             "Crime & justice"
            ],
            [
             "Poverty & income"
            ],
            [
             "Social statistics subscore"
            ]
           ],
           "hovertemplate": "%{customdata[0]}<extra></extra>",
           "ids": [
            "Population & vital statistics",
            "Education facilities",
            "Education outcomes",
            "Health facilities",
            "Health outcomes",
            "Reproductive health",
            "Food security & nutrition",
            "Gender statistics",
            "Crime & justice",
            "Poverty & income",
            "Social statistics subscore"
           ],
           "legendgroup": "Social statistics",
           "marker": {
            "color": "RebeccaPurple",
            "size": [
             70,
             70,
             70,
             70,
             70,
             70,
             70,
             70,
             70,
             70,
             120
            ],
            "sizemode": "area",
            "sizeref": 0.3,
            "symbol": "circle"
           },
           "mode": "markers+text",
           "name": "Social statistics",
           "orientation": "v",
           "showlegend": true,
           "text": [
            "",
            "",
            "",
            "",
            "",
            "",
            "",
            "",
            "",
            "",
            "Social statistics"
           ],
           "type": "scatter",
           "x": [
            60,
            30,
            29.3,
            28.6,
            20,
            27.9,
            12.5,
            40,
            39.3,
            59.3,
            35.7
           ],
           "xaxis": "x",
           "y": [
            0.40000000000000013,
            -0.40000000000000013,
            0.40000000000000013,
            -0.40000000000000013,
            0.40000000000000013,
            -0.40000000000000013,
            0.40000000000000013,
            -0.40000000000000013,
            0.40000000000000013,
            -0.40000000000000013,
            0.40000000000000013
           ],
           "yaxis": "y"
          },
          {
           "customdata": [
            [
             "National accounts"
            ],
            [
             "Labor"
            ],
            [
             "Price indexes"
            ],
            [
             "Government finance"
            ],
            [
             "Money & banking"
            ],
            [
             "International trade"
            ],
            [
             "Balance of payments"
            ],
            [
             "Economic & financial statistics subscore"
            ]
           ],
           "hovertemplate": "%{customdata[0]}<extra></extra>",
           "ids": [
            "National accounts",
            "Labor",
            "Price indexes",
            "Government finance",
            "Money & banking",
            "International trade",
            "Balance of payments",
            "Economic & financial statistics subscore"
           ],
           "legendgroup": "Economic & financial statistics",
           "marker": {
            "color": "red",
            "size": [
             70,
             70,
             70,
             70,
             70,
             70,
             70,
             120
            ],
            "sizemode": "area",
            "sizeref": 0.3,
            "symbol": "circle"
           },
           "mode": "markers+text",
           "name": "Economic & financial statistics",
           "orientation": "v",
           "showlegend": true,
           "text": [
            "",
            "",
            "",
            "",
            "",
            "",
            "",
            "Economic & financial statistics"
           ],
           "type": "scatter",
           "x": [
            37.5,
            58.6,
            36.8,
            75,
            100,
            50,
            99.3,
            63.5
           ],
           "xaxis": "x",
           "y": [
            -0.40000000000000013,
            0.40000000000000013,
            -0.40000000000000013,
            0.40000000000000013,
            -0.40000000000000013,
            0.40000000000000013,
            -0.40000000000000013,
            0.40000000000000013
           ],
           "yaxis": "y"
          },
          {
           "customdata": [
            [
             "Agriculture & Land Use"
            ],
            [
             "Resource use"
            ],
            [
             "Energy"
            ],
            [
             "Pollution"
            ],
            [
             "Built environment"
            ],
            [
             "Environment subscore"
            ]
           ],
           "hovertemplate": "%{customdata[0]}<extra></extra>",
           "ids": [
            "Agriculture & Land Use",
            "Resource use",
            "Energy",
            "Pollution",
            "Built environment",
            "Environment subscore"
           ],
           "legendgroup": "Environmental statistics",
           "marker": {
            "color": "#021988",
            "size": [
             70,
             70,
             70,
             70,
             70,
             120
            ],
            "sizemode": "area",
            "sizeref": 0.3,
            "symbol": "circle"
           },
           "mode": "markers+text",
           "name": "Environmental statistics",
           "orientation": "v",
           "showlegend": true,
           "text": [
            "",
            "",
            "",
            "",
            "",
            "Environmental statistics"
           ],
           "type": "scatter",
           "x": [
            27.2,
            62.5,
            49.3,
            74.3,
            38.6,
            48.6
           ],
           "xaxis": "x",
           "y": [
            -0.40000000000000013,
            0.40000000000000013,
            -0.40000000000000013,
            0.40000000000000013,
            -0.40000000000000013,
            0.40000000000000013
           ],
           "yaxis": "y"
          },
          {
           "customdata": [
            [
             "All Categories"
            ]
           ],
           "hovertemplate": "%{customdata[0]}<extra></extra>",
           "ids": [
            "All Categories"
           ],
           "legendgroup": "All Categories Score",
           "marker": {
            "color": "black",
            "size": [
             120
            ],
            "sizemode": "area",
            "sizeref": 0.3,
            "symbol": "circle"
           },
           "mode": "markers+text",
           "name": "All Categories Score",
           "orientation": "v",
           "showlegend": true,
           "text": [
            "All Categories Score"
           ],
           "type": "scatter",
           "x": [
            48.4
           ],
           "xaxis": "x",
           "y": [
            -0.40000000000000013
           ],
           "yaxis": "y"
          }
         ],
         "name": "5"
        },
        {
         "data": [
          {
           "customdata": [
            [
             "Population & vital statistics"
            ],
            [
             "Education facilities"
            ],
            [
             "Education outcomes"
            ],
            [
             "Health facilities"
            ],
            [
             "Health outcomes"
            ],
            [
             "Reproductive health"
            ],
            [
             "Food security & nutrition"
            ],
            [
             "Gender statistics"
            ],
            [
             "Crime & justice"
            ],
            [
             "Poverty & income"
            ],
            [
             "Social statistics subscore"
            ]
           ],
           "hovertemplate": "%{customdata[0]}<extra></extra>",
           "ids": [
            "Population & vital statistics",
            "Education facilities",
            "Education outcomes",
            "Health facilities",
            "Health outcomes",
            "Reproductive health",
            "Food security & nutrition",
            "Gender statistics",
            "Crime & justice",
            "Poverty & income",
            "Social statistics subscore"
           ],
           "legendgroup": "Social statistics",
           "marker": {
            "color": "RebeccaPurple",
            "size": [
             70,
             70,
             70,
             70,
             70,
             70,
             70,
             70,
             70,
             70,
             120
            ],
            "sizemode": "area",
            "sizeref": 0.3,
            "symbol": "circle"
           },
           "mode": "markers+text",
           "name": "Social statistics",
           "orientation": "v",
           "showlegend": true,
           "text": [
            "",
            "",
            "",
            "",
            "",
            "",
            "",
            "",
            "",
            "",
            "Social statistics"
           ],
           "type": "scatter",
           "x": [
            60,
            30,
            29.3,
            28.6,
            20,
            27.9,
            12.5,
            40,
            39.3,
            59.3,
            35.7
           ],
           "xaxis": "x",
           "y": [
            0.30000000000000016,
            -0.30000000000000016,
            0.30000000000000016,
            -0.30000000000000016,
            0.30000000000000016,
            -0.30000000000000016,
            0.30000000000000016,
            -0.30000000000000016,
            0.30000000000000016,
            -0.30000000000000016,
            0.30000000000000016
           ],
           "yaxis": "y"
          },
          {
           "customdata": [
            [
             "National accounts"
            ],
            [
             "Labor"
            ],
            [
             "Price indexes"
            ],
            [
             "Government finance"
            ],
            [
             "Money & banking"
            ],
            [
             "International trade"
            ],
            [
             "Balance of payments"
            ],
            [
             "Economic & financial statistics subscore"
            ]
           ],
           "hovertemplate": "%{customdata[0]}<extra></extra>",
           "ids": [
            "National accounts",
            "Labor",
            "Price indexes",
            "Government finance",
            "Money & banking",
            "International trade",
            "Balance of payments",
            "Economic & financial statistics subscore"
           ],
           "legendgroup": "Economic & financial statistics",
           "marker": {
            "color": "red",
            "size": [
             70,
             70,
             70,
             70,
             70,
             70,
             70,
             120
            ],
            "sizemode": "area",
            "sizeref": 0.3,
            "symbol": "circle"
           },
           "mode": "markers+text",
           "name": "Economic & financial statistics",
           "orientation": "v",
           "showlegend": true,
           "text": [
            "",
            "",
            "",
            "",
            "",
            "",
            "",
            "Economic & financial statistics"
           ],
           "type": "scatter",
           "x": [
            37.5,
            58.6,
            36.8,
            75,
            100,
            50,
            99.3,
            63.5
           ],
           "xaxis": "x",
           "y": [
            -0.30000000000000016,
            0.30000000000000016,
            -0.30000000000000016,
            0.30000000000000016,
            -0.30000000000000016,
            0.30000000000000016,
            -0.30000000000000016,
            0.30000000000000016
           ],
           "yaxis": "y"
          },
          {
           "customdata": [
            [
             "Agriculture & Land Use"
            ],
            [
             "Resource use"
            ],
            [
             "Energy"
            ],
            [
             "Pollution"
            ],
            [
             "Built environment"
            ],
            [
             "Environment subscore"
            ]
           ],
           "hovertemplate": "%{customdata[0]}<extra></extra>",
           "ids": [
            "Agriculture & Land Use",
            "Resource use",
            "Energy",
            "Pollution",
            "Built environment",
            "Environment subscore"
           ],
           "legendgroup": "Environmental statistics",
           "marker": {
            "color": "#021988",
            "size": [
             70,
             70,
             70,
             70,
             70,
             120
            ],
            "sizemode": "area",
            "sizeref": 0.3,
            "symbol": "circle"
           },
           "mode": "markers+text",
           "name": "Environmental statistics",
           "orientation": "v",
           "showlegend": true,
           "text": [
            "",
            "",
            "",
            "",
            "",
            "Environmental statistics"
           ],
           "type": "scatter",
           "x": [
            27.2,
            62.5,
            49.3,
            74.3,
            38.6,
            48.6
           ],
           "xaxis": "x",
           "y": [
            -0.30000000000000016,
            0.30000000000000016,
            -0.30000000000000016,
            0.30000000000000016,
            -0.30000000000000016,
            0.30000000000000016
           ],
           "yaxis": "y"
          },
          {
           "customdata": [
            [
             "All Categories"
            ]
           ],
           "hovertemplate": "%{customdata[0]}<extra></extra>",
           "ids": [
            "All Categories"
           ],
           "legendgroup": "All Categories Score",
           "marker": {
            "color": "black",
            "size": [
             120
            ],
            "sizemode": "area",
            "sizeref": 0.3,
            "symbol": "circle"
           },
           "mode": "markers+text",
           "name": "All Categories Score",
           "orientation": "v",
           "showlegend": true,
           "text": [
            "All Categories Score"
           ],
           "type": "scatter",
           "x": [
            48.4
           ],
           "xaxis": "x",
           "y": [
            -0.30000000000000016
           ],
           "yaxis": "y"
          }
         ],
         "name": "6"
        },
        {
         "data": [
          {
           "customdata": [
            [
             "Population & vital statistics"
            ],
            [
             "Education facilities"
            ],
            [
             "Education outcomes"
            ],
            [
             "Health facilities"
            ],
            [
             "Health outcomes"
            ],
            [
             "Reproductive health"
            ],
            [
             "Food security & nutrition"
            ],
            [
             "Gender statistics"
            ],
            [
             "Crime & justice"
            ],
            [
             "Poverty & income"
            ],
            [
             "Social statistics subscore"
            ]
           ],
           "hovertemplate": "%{customdata[0]}<extra></extra>",
           "ids": [
            "Population & vital statistics",
            "Education facilities",
            "Education outcomes",
            "Health facilities",
            "Health outcomes",
            "Reproductive health",
            "Food security & nutrition",
            "Gender statistics",
            "Crime & justice",
            "Poverty & income",
            "Social statistics subscore"
           ],
           "legendgroup": "Social statistics",
           "marker": {
            "color": "RebeccaPurple",
            "size": [
             70,
             70,
             70,
             70,
             70,
             70,
             70,
             70,
             70,
             70,
             120
            ],
            "sizemode": "area",
            "sizeref": 0.3,
            "symbol": "circle"
           },
           "mode": "markers+text",
           "name": "Social statistics",
           "orientation": "v",
           "showlegend": true,
           "text": [
            "",
            "",
            "",
            "",
            "",
            "",
            "",
            "",
            "",
            "",
            "Social statistics"
           ],
           "type": "scatter",
           "x": [
            60,
            30,
            29.3,
            28.6,
            20,
            27.9,
            12.5,
            40,
            39.3,
            59.3,
            35.7
           ],
           "xaxis": "x",
           "y": [
            0.20000000000000015,
            -0.20000000000000015,
            0.20000000000000015,
            -0.20000000000000015,
            0.20000000000000015,
            -0.20000000000000015,
            0.20000000000000015,
            -0.20000000000000015,
            0.20000000000000015,
            -0.20000000000000015,
            0.20000000000000015
           ],
           "yaxis": "y"
          },
          {
           "customdata": [
            [
             "National accounts"
            ],
            [
             "Labor"
            ],
            [
             "Price indexes"
            ],
            [
             "Government finance"
            ],
            [
             "Money & banking"
            ],
            [
             "International trade"
            ],
            [
             "Balance of payments"
            ],
            [
             "Economic & financial statistics subscore"
            ]
           ],
           "hovertemplate": "%{customdata[0]}<extra></extra>",
           "ids": [
            "National accounts",
            "Labor",
            "Price indexes",
            "Government finance",
            "Money & banking",
            "International trade",
            "Balance of payments",
            "Economic & financial statistics subscore"
           ],
           "legendgroup": "Economic & financial statistics",
           "marker": {
            "color": "red",
            "size": [
             70,
             70,
             70,
             70,
             70,
             70,
             70,
             120
            ],
            "sizemode": "area",
            "sizeref": 0.3,
            "symbol": "circle"
           },
           "mode": "markers+text",
           "name": "Economic & financial statistics",
           "orientation": "v",
           "showlegend": true,
           "text": [
            "",
            "",
            "",
            "",
            "",
            "",
            "",
            "Economic & financial statistics"
           ],
           "type": "scatter",
           "x": [
            37.5,
            58.6,
            36.8,
            75,
            100,
            50,
            99.3,
            63.5
           ],
           "xaxis": "x",
           "y": [
            -0.20000000000000015,
            0.20000000000000015,
            -0.20000000000000015,
            0.20000000000000015,
            -0.20000000000000015,
            0.20000000000000015,
            -0.20000000000000015,
            0.20000000000000015
           ],
           "yaxis": "y"
          },
          {
           "customdata": [
            [
             "Agriculture & Land Use"
            ],
            [
             "Resource use"
            ],
            [
             "Energy"
            ],
            [
             "Pollution"
            ],
            [
             "Built environment"
            ],
            [
             "Environment subscore"
            ]
           ],
           "hovertemplate": "%{customdata[0]}<extra></extra>",
           "ids": [
            "Agriculture & Land Use",
            "Resource use",
            "Energy",
            "Pollution",
            "Built environment",
            "Environment subscore"
           ],
           "legendgroup": "Environmental statistics",
           "marker": {
            "color": "#021988",
            "size": [
             70,
             70,
             70,
             70,
             70,
             120
            ],
            "sizemode": "area",
            "sizeref": 0.3,
            "symbol": "circle"
           },
           "mode": "markers+text",
           "name": "Environmental statistics",
           "orientation": "v",
           "showlegend": true,
           "text": [
            "",
            "",
            "",
            "",
            "",
            "Environmental statistics"
           ],
           "type": "scatter",
           "x": [
            27.2,
            62.5,
            49.3,
            74.3,
            38.6,
            48.6
           ],
           "xaxis": "x",
           "y": [
            -0.20000000000000015,
            0.20000000000000015,
            -0.20000000000000015,
            0.20000000000000015,
            -0.20000000000000015,
            0.20000000000000015
           ],
           "yaxis": "y"
          },
          {
           "customdata": [
            [
             "All Categories"
            ]
           ],
           "hovertemplate": "%{customdata[0]}<extra></extra>",
           "ids": [
            "All Categories"
           ],
           "legendgroup": "All Categories Score",
           "marker": {
            "color": "black",
            "size": [
             120
            ],
            "sizemode": "area",
            "sizeref": 0.3,
            "symbol": "circle"
           },
           "mode": "markers+text",
           "name": "All Categories Score",
           "orientation": "v",
           "showlegend": true,
           "text": [
            "All Categories Score"
           ],
           "type": "scatter",
           "x": [
            48.4
           ],
           "xaxis": "x",
           "y": [
            -0.20000000000000015
           ],
           "yaxis": "y"
          }
         ],
         "name": "7"
        },
        {
         "data": [
          {
           "customdata": [
            [
             "Population & vital statistics"
            ],
            [
             "Education facilities"
            ],
            [
             "Education outcomes"
            ],
            [
             "Health facilities"
            ],
            [
             "Health outcomes"
            ],
            [
             "Reproductive health"
            ],
            [
             "Food security & nutrition"
            ],
            [
             "Gender statistics"
            ],
            [
             "Crime & justice"
            ],
            [
             "Poverty & income"
            ],
            [
             "Social statistics subscore"
            ]
           ],
           "hovertemplate": "%{customdata[0]}<extra></extra>",
           "ids": [
            "Population & vital statistics",
            "Education facilities",
            "Education outcomes",
            "Health facilities",
            "Health outcomes",
            "Reproductive health",
            "Food security & nutrition",
            "Gender statistics",
            "Crime & justice",
            "Poverty & income",
            "Social statistics subscore"
           ],
           "legendgroup": "Social statistics",
           "marker": {
            "color": "RebeccaPurple",
            "size": [
             70,
             70,
             70,
             70,
             70,
             70,
             70,
             70,
             70,
             70,
             120
            ],
            "sizemode": "area",
            "sizeref": 0.3,
            "symbol": "circle"
           },
           "mode": "markers+text",
           "name": "Social statistics",
           "orientation": "v",
           "showlegend": true,
           "text": [
            "",
            "",
            "",
            "",
            "",
            "",
            "",
            "",
            "",
            "",
            ""
           ],
           "type": "scatter",
           "x": [
            60,
            30,
            29.3,
            28.6,
            20,
            27.9,
            12.5,
            40,
            39.3,
            59.3,
            35.7
           ],
           "xaxis": "x",
           "y": [
            0.10000000000000014,
            -0.10000000000000014,
            0.10000000000000014,
            -0.10000000000000014,
            0.10000000000000014,
            -0.10000000000000014,
            0.10000000000000014,
            -0.10000000000000014,
            0.10000000000000014,
            -0.10000000000000014,
            0.10000000000000014
           ],
           "yaxis": "y"
          },
          {
           "customdata": [
            [
             "National accounts"
            ],
            [
             "Labor"
            ],
            [
             "Price indexes"
            ],
            [
             "Government finance"
            ],
            [
             "Money & banking"
            ],
            [
             "International trade"
            ],
            [
             "Balance of payments"
            ],
            [
             "Economic & financial statistics subscore"
            ]
           ],
           "hovertemplate": "%{customdata[0]}<extra></extra>",
           "ids": [
            "National accounts",
            "Labor",
            "Price indexes",
            "Government finance",
            "Money & banking",
            "International trade",
            "Balance of payments",
            "Economic & financial statistics subscore"
           ],
           "legendgroup": "Economic & financial statistics",
           "marker": {
            "color": "red",
            "size": [
             70,
             70,
             70,
             70,
             70,
             70,
             70,
             120
            ],
            "sizemode": "area",
            "sizeref": 0.3,
            "symbol": "circle"
           },
           "mode": "markers+text",
           "name": "Economic & financial statistics",
           "orientation": "v",
           "showlegend": true,
           "text": [
            "",
            "",
            "",
            "",
            "",
            "",
            "",
            ""
           ],
           "type": "scatter",
           "x": [
            37.5,
            58.6,
            36.8,
            75,
            100,
            50,
            99.3,
            63.5
           ],
           "xaxis": "x",
           "y": [
            -0.10000000000000014,
            0.10000000000000014,
            -0.10000000000000014,
            0.10000000000000014,
            -0.10000000000000014,
            0.10000000000000014,
            -0.10000000000000014,
            0.10000000000000014
           ],
           "yaxis": "y"
          },
          {
           "customdata": [
            [
             "Agriculture & Land Use"
            ],
            [
             "Resource use"
            ],
            [
             "Energy"
            ],
            [
             "Pollution"
            ],
            [
             "Built environment"
            ],
            [
             "Environment subscore"
            ]
           ],
           "hovertemplate": "%{customdata[0]}<extra></extra>",
           "ids": [
            "Agriculture & Land Use",
            "Resource use",
            "Energy",
            "Pollution",
            "Built environment",
            "Environment subscore"
           ],
           "legendgroup": "Environmental statistics",
           "marker": {
            "color": "#021988",
            "size": [
             70,
             70,
             70,
             70,
             70,
             120
            ],
            "sizemode": "area",
            "sizeref": 0.3,
            "symbol": "circle"
           },
           "mode": "markers+text",
           "name": "Environmental statistics",
           "orientation": "v",
           "showlegend": true,
           "text": [
            "",
            "",
            "",
            "",
            "",
            ""
           ],
           "type": "scatter",
           "x": [
            27.2,
            62.5,
            49.3,
            74.3,
            38.6,
            48.6
           ],
           "xaxis": "x",
           "y": [
            -0.10000000000000014,
            0.10000000000000014,
            -0.10000000000000014,
            0.10000000000000014,
            -0.10000000000000014,
            0.10000000000000014
           ],
           "yaxis": "y"
          },
          {
           "customdata": [
            [
             "All Categories"
            ]
           ],
           "hovertemplate": "%{customdata[0]}<extra></extra>",
           "ids": [
            "All Categories"
           ],
           "legendgroup": "All Categories Score",
           "marker": {
            "color": "black",
            "size": [
             120
            ],
            "sizemode": "area",
            "sizeref": 0.3,
            "symbol": "circle"
           },
           "mode": "markers+text",
           "name": "All Categories Score",
           "orientation": "v",
           "showlegend": true,
           "text": [
            ""
           ],
           "type": "scatter",
           "x": [
            48.4
           ],
           "xaxis": "x",
           "y": [
            -0.10000000000000014
           ],
           "yaxis": "y"
          }
         ],
         "name": "8"
        },
        {
         "data": [
          {
           "customdata": [
            [
             "Population & vital statistics"
            ],
            [
             "Education facilities"
            ],
            [
             "Education outcomes"
            ],
            [
             "Health facilities"
            ],
            [
             "Health outcomes"
            ],
            [
             "Reproductive health"
            ],
            [
             "Food security & nutrition"
            ],
            [
             "Gender statistics"
            ],
            [
             "Crime & justice"
            ],
            [
             "Poverty & income"
            ],
            [
             "Social statistics subscore"
            ]
           ],
           "hovertemplate": "%{customdata[0]}<extra></extra>",
           "ids": [
            "Population & vital statistics",
            "Education facilities",
            "Education outcomes",
            "Health facilities",
            "Health outcomes",
            "Reproductive health",
            "Food security & nutrition",
            "Gender statistics",
            "Crime & justice",
            "Poverty & income",
            "Social statistics subscore"
           ],
           "legendgroup": "Social statistics",
           "marker": {
            "color": "RebeccaPurple",
            "size": [
             70,
             70,
             70,
             70,
             70,
             70,
             70,
             70,
             70,
             70,
             120
            ],
            "sizemode": "area",
            "sizeref": 0.3,
            "symbol": "circle"
           },
           "mode": "markers+text",
           "name": "Social statistics",
           "orientation": "v",
           "showlegend": true,
           "text": [
            "",
            "",
            "",
            "",
            "",
            "",
            "",
            "",
            "",
            "",
            ""
           ],
           "type": "scatter",
           "x": [
            60,
            30,
            29.3,
            28.6,
            20,
            27.9,
            12.5,
            40,
            39.3,
            59.3,
            35.7
           ],
           "xaxis": "x",
           "y": [
            1.3877787807814457E-16,
            -1.3877787807814457E-16,
            1.3877787807814457E-16,
            -1.3877787807814457E-16,
            1.3877787807814457E-16,
            -1.3877787807814457E-16,
            1.3877787807814457E-16,
            -1.3877787807814457E-16,
            1.3877787807814457E-16,
            -1.3877787807814457E-16,
            1.3877787807814457E-16
           ],
           "yaxis": "y"
          },
          {
           "customdata": [
            [
             "National accounts"
            ],
            [
             "Labor"
            ],
            [
             "Price indexes"
            ],
            [
             "Government finance"
            ],
            [
             "Money & banking"
            ],
            [
             "International trade"
            ],
            [
             "Balance of payments"
            ],
            [
             "Economic & financial statistics subscore"
            ]
           ],
           "hovertemplate": "%{customdata[0]}<extra></extra>",
           "ids": [
            "National accounts",
            "Labor",
            "Price indexes",
            "Government finance",
            "Money & banking",
            "International trade",
            "Balance of payments",
            "Economic & financial statistics subscore"
           ],
           "legendgroup": "Economic & financial statistics",
           "marker": {
            "color": "red",
            "size": [
             70,
             70,
             70,
             70,
             70,
             70,
             70,
             120
            ],
            "sizemode": "area",
            "sizeref": 0.3,
            "symbol": "circle"
           },
           "mode": "markers+text",
           "name": "Economic & financial statistics",
           "orientation": "v",
           "showlegend": true,
           "text": [
            "",
            "",
            "",
            "",
            "",
            "",
            "",
            ""
           ],
           "type": "scatter",
           "x": [
            37.5,
            58.6,
            36.8,
            75,
            100,
            50,
            99.3,
            63.5
           ],
           "xaxis": "x",
           "y": [
            -1.3877787807814457E-16,
            1.3877787807814457E-16,
            -1.3877787807814457E-16,
            1.3877787807814457E-16,
            -1.3877787807814457E-16,
            1.3877787807814457E-16,
            -1.3877787807814457E-16,
            1.3877787807814457E-16
           ],
           "yaxis": "y"
          },
          {
           "customdata": [
            [
             "Agriculture & Land Use"
            ],
            [
             "Resource use"
            ],
            [
             "Energy"
            ],
            [
             "Pollution"
            ],
            [
             "Built environment"
            ],
            [
             "Environment subscore"
            ]
           ],
           "hovertemplate": "%{customdata[0]}<extra></extra>",
           "ids": [
            "Agriculture & Land Use",
            "Resource use",
            "Energy",
            "Pollution",
            "Built environment",
            "Environment subscore"
           ],
           "legendgroup": "Environmental statistics",
           "marker": {
            "color": "#021988",
            "size": [
             70,
             70,
             70,
             70,
             70,
             120
            ],
            "sizemode": "area",
            "sizeref": 0.3,
            "symbol": "circle"
           },
           "mode": "markers+text",
           "name": "Environmental statistics",
           "orientation": "v",
           "showlegend": true,
           "text": [
            "",
            "",
            "",
            "",
            "",
            ""
           ],
           "type": "scatter",
           "x": [
            27.2,
            62.5,
            49.3,
            74.3,
            38.6,
            48.6
           ],
           "xaxis": "x",
           "y": [
            -1.3877787807814457E-16,
            1.3877787807814457E-16,
            -1.3877787807814457E-16,
            1.3877787807814457E-16,
            -1.3877787807814457E-16,
            1.3877787807814457E-16
           ],
           "yaxis": "y"
          },
          {
           "customdata": [
            [
             "All Categories"
            ]
           ],
           "hovertemplate": "%{customdata[0]}<extra></extra>",
           "ids": [
            "All Categories"
           ],
           "legendgroup": "All Categories Score",
           "marker": {
            "color": "black",
            "size": [
             120
            ],
            "sizemode": "area",
            "sizeref": 0.3,
            "symbol": "circle"
           },
           "mode": "markers+text",
           "name": "All Categories Score",
           "orientation": "v",
           "showlegend": true,
           "text": [
            ""
           ],
           "type": "scatter",
           "x": [
            48.4
           ],
           "xaxis": "x",
           "y": [
            -1.3877787807814457E-16
           ],
           "yaxis": "y"
          }
         ],
         "name": "9"
        }
       ],
       "layout": {
        "legend": {
         "itemsizing": "constant",
         "title": {
          "text": "Color Legend"
         },
         "tracegroupgap": 0
        },
        "sliders": [
         {
          "active": 0,
          "currentvalue": {
           "prefix": "Animation="
          },
          "len": 0.9,
          "pad": {
           "b": 10,
           "t": 60
          },
          "steps": [
           {
            "args": [
             [
              "0"
             ],
             {
              "frame": {
               "duration": 0,
               "redraw": false
              },
              "fromcurrent": true,
              "mode": "immediate",
              "transition": {
               "duration": 0,
               "easing": "linear"
              }
             }
            ],
            "label": "0",
            "method": "animate"
           },
           {
            "args": [
             [
              "1"
             ],
             {
              "frame": {
               "duration": 0,
               "redraw": false
              },
              "fromcurrent": true,
              "mode": "immediate",
              "transition": {
               "duration": 0,
               "easing": "linear"
              }
             }
            ],
            "label": "1",
            "method": "animate"
           },
           {
            "args": [
             [
              "2"
             ],
             {
              "frame": {
               "duration": 0,
               "redraw": false
              },
              "fromcurrent": true,
              "mode": "immediate",
              "transition": {
               "duration": 0,
               "easing": "linear"
              }
             }
            ],
            "label": "2",
            "method": "animate"
           },
           {
            "args": [
             [
              "3"
             ],
             {
              "frame": {
               "duration": 0,
               "redraw": false
              },
              "fromcurrent": true,
              "mode": "immediate",
              "transition": {
               "duration": 0,
               "easing": "linear"
              }
             }
            ],
            "label": "3",
            "method": "animate"
           },
           {
            "args": [
             [
              "4"
             ],
             {
              "frame": {
               "duration": 0,
               "redraw": false
              },
              "fromcurrent": true,
              "mode": "immediate",
              "transition": {
               "duration": 0,
               "easing": "linear"
              }
             }
            ],
            "label": "4",
            "method": "animate"
           },
           {
            "args": [
             [
              "5"
             ],
             {
              "frame": {
               "duration": 0,
               "redraw": false
              },
              "fromcurrent": true,
              "mode": "immediate",
              "transition": {
               "duration": 0,
               "easing": "linear"
              }
             }
            ],
            "label": "5",
            "method": "animate"
           },
           {
            "args": [
             [
              "6"
             ],
             {
              "frame": {
               "duration": 0,
               "redraw": false
              },
              "fromcurrent": true,
              "mode": "immediate",
              "transition": {
               "duration": 0,
               "easing": "linear"
              }
             }
            ],
            "label": "6",
            "method": "animate"
           },
           {
            "args": [
             [
              "7"
             ],
             {
              "frame": {
               "duration": 0,
               "redraw": false
              },
              "fromcurrent": true,
              "mode": "immediate",
              "transition": {
               "duration": 0,
               "easing": "linear"
              }
             }
            ],
            "label": "7",
            "method": "animate"
           },
           {
            "args": [
             [
              "8"
             ],
             {
              "frame": {
               "duration": 0,
               "redraw": false
              },
              "fromcurrent": true,
              "mode": "immediate",
              "transition": {
               "duration": 0,
               "easing": "linear"
              }
             }
            ],
            "label": "8",
            "method": "animate"
           },
           {
            "args": [
             [
              "9"
             ],
             {
              "frame": {
               "duration": 0,
               "redraw": false
              },
              "fromcurrent": true,
              "mode": "immediate",
              "transition": {
               "duration": 0,
               "easing": "linear"
              }
             }
            ],
            "label": "9",
            "method": "animate"
           }
          ],
          "x": 0.1,
          "xanchor": "left",
          "y": 0,
          "yanchor": "top"
         }
        ],
        "template": {
         "data": {
          "bar": [
           {
            "error_x": {
             "color": "#2a3f5f"
            },
            "error_y": {
             "color": "#2a3f5f"
            },
            "marker": {
             "line": {
              "color": "#E5ECF6",
              "width": 0.5
             },
             "pattern": {
              "fillmode": "overlay",
              "size": 10,
              "solidity": 0.2
             }
            },
            "type": "bar"
           }
          ],
          "barpolar": [
           {
            "marker": {
             "line": {
              "color": "#E5ECF6",
              "width": 0.5
             },
             "pattern": {
              "fillmode": "overlay",
              "size": 10,
              "solidity": 0.2
             }
            },
            "type": "barpolar"
           }
          ],
          "carpet": [
           {
            "aaxis": {
             "endlinecolor": "#2a3f5f",
             "gridcolor": "white",
             "linecolor": "white",
             "minorgridcolor": "white",
             "startlinecolor": "#2a3f5f"
            },
            "baxis": {
             "endlinecolor": "#2a3f5f",
             "gridcolor": "white",
             "linecolor": "white",
             "minorgridcolor": "white",
             "startlinecolor": "#2a3f5f"
            },
            "type": "carpet"
           }
          ],
          "choropleth": [
           {
            "colorbar": {
             "outlinewidth": 0,
             "ticks": ""
            },
            "type": "choropleth"
           }
          ],
          "contour": [
           {
            "colorbar": {
             "outlinewidth": 0,
             "ticks": ""
            },
            "colorscale": [
             [
              0,
              "#0d0887"
             ],
             [
              0.1111111111111111,
              "#46039f"
             ],
             [
              0.2222222222222222,
              "#7201a8"
             ],
             [
              0.3333333333333333,
              "#9c179e"
             ],
             [
              0.4444444444444444,
              "#bd3786"
             ],
             [
              0.5555555555555556,
              "#d8576b"
             ],
             [
              0.6666666666666666,
              "#ed7953"
             ],
             [
              0.7777777777777778,
              "#fb9f3a"
             ],
             [
              0.8888888888888888,
              "#fdca26"
             ],
             [
              1,
              "#f0f921"
             ]
            ],
            "type": "contour"
           }
          ],
          "contourcarpet": [
           {
            "colorbar": {
             "outlinewidth": 0,
             "ticks": ""
            },
            "type": "contourcarpet"
           }
          ],
          "heatmap": [
           {
            "colorbar": {
             "outlinewidth": 0,
             "ticks": ""
            },
            "colorscale": [
             [
              0,
              "#0d0887"
             ],
             [
              0.1111111111111111,
              "#46039f"
             ],
             [
              0.2222222222222222,
              "#7201a8"
             ],
             [
              0.3333333333333333,
              "#9c179e"
             ],
             [
              0.4444444444444444,
              "#bd3786"
             ],
             [
              0.5555555555555556,
              "#d8576b"
             ],
             [
              0.6666666666666666,
              "#ed7953"
             ],
             [
              0.7777777777777778,
              "#fb9f3a"
             ],
             [
              0.8888888888888888,
              "#fdca26"
             ],
             [
              1,
              "#f0f921"
             ]
            ],
            "type": "heatmap"
           }
          ],
          "heatmapgl": [
           {
            "colorbar": {
             "outlinewidth": 0,
             "ticks": ""
            },
            "colorscale": [
             [
              0,
              "#0d0887"
             ],
             [
              0.1111111111111111,
              "#46039f"
             ],
             [
              0.2222222222222222,
              "#7201a8"
             ],
             [
              0.3333333333333333,
              "#9c179e"
             ],
             [
              0.4444444444444444,
              "#bd3786"
             ],
             [
              0.5555555555555556,
              "#d8576b"
             ],
             [
              0.6666666666666666,
              "#ed7953"
             ],
             [
              0.7777777777777778,
              "#fb9f3a"
             ],
             [
              0.8888888888888888,
              "#fdca26"
             ],
             [
              1,
              "#f0f921"
             ]
            ],
            "type": "heatmapgl"
           }
          ],
          "histogram": [
           {
            "marker": {
             "pattern": {
              "fillmode": "overlay",
              "size": 10,
              "solidity": 0.2
             }
            },
            "type": "histogram"
           }
          ],
          "histogram2d": [
           {
            "colorbar": {
             "outlinewidth": 0,
             "ticks": ""
            },
            "colorscale": [
             [
              0,
              "#0d0887"
             ],
             [
              0.1111111111111111,
              "#46039f"
             ],
             [
              0.2222222222222222,
              "#7201a8"
             ],
             [
              0.3333333333333333,
              "#9c179e"
             ],
             [
              0.4444444444444444,
              "#bd3786"
             ],
             [
              0.5555555555555556,
              "#d8576b"
             ],
             [
              0.6666666666666666,
              "#ed7953"
             ],
             [
              0.7777777777777778,
              "#fb9f3a"
             ],
             [
              0.8888888888888888,
              "#fdca26"
             ],
             [
              1,
              "#f0f921"
             ]
            ],
            "type": "histogram2d"
           }
          ],
          "histogram2dcontour": [
           {
            "colorbar": {
             "outlinewidth": 0,
             "ticks": ""
            },
            "colorscale": [
             [
              0,
              "#0d0887"
             ],
             [
              0.1111111111111111,
              "#46039f"
             ],
             [
              0.2222222222222222,
              "#7201a8"
             ],
             [
              0.3333333333333333,
              "#9c179e"
             ],
             [
              0.4444444444444444,
              "#bd3786"
             ],
             [
              0.5555555555555556,
              "#d8576b"
             ],
             [
              0.6666666666666666,
              "#ed7953"
             ],
             [
              0.7777777777777778,
              "#fb9f3a"
             ],
             [
              0.8888888888888888,
              "#fdca26"
             ],
             [
              1,
              "#f0f921"
             ]
            ],
            "type": "histogram2dcontour"
           }
          ],
          "mesh3d": [
           {
            "colorbar": {
             "outlinewidth": 0,
             "ticks": ""
            },
            "type": "mesh3d"
           }
          ],
          "parcoords": [
           {
            "line": {
             "colorbar": {
              "outlinewidth": 0,
              "ticks": ""
             }
            },
            "type": "parcoords"
           }
          ],
          "pie": [
           {
            "automargin": true,
            "type": "pie"
           }
          ],
          "scatter": [
           {
            "marker": {
             "colorbar": {
              "outlinewidth": 0,
              "ticks": ""
             }
            },
            "type": "scatter"
           }
          ],
          "scatter3d": [
           {
            "line": {
             "colorbar": {
              "outlinewidth": 0,
              "ticks": ""
             }
            },
            "marker": {
             "colorbar": {
              "outlinewidth": 0,
              "ticks": ""
             }
            },
            "type": "scatter3d"
           }
          ],
          "scattercarpet": [
           {
            "marker": {
             "colorbar": {
              "outlinewidth": 0,
              "ticks": ""
             }
            },
            "type": "scattercarpet"
           }
          ],
          "scattergeo": [
           {
            "marker": {
             "colorbar": {
              "outlinewidth": 0,
              "ticks": ""
             }
            },
            "type": "scattergeo"
           }
          ],
          "scattergl": [
           {
            "marker": {
             "colorbar": {
              "outlinewidth": 0,
              "ticks": ""
             }
            },
            "type": "scattergl"
           }
          ],
          "scattermapbox": [
           {
            "marker": {
             "colorbar": {
              "outlinewidth": 0,
              "ticks": ""
             }
            },
            "type": "scattermapbox"
           }
          ],
          "scatterpolar": [
           {
            "marker": {
             "colorbar": {
              "outlinewidth": 0,
              "ticks": ""
             }
            },
            "type": "scatterpolar"
           }
          ],
          "scatterpolargl": [
           {
            "marker": {
             "colorbar": {
              "outlinewidth": 0,
              "ticks": ""
             }
            },
            "type": "scatterpolargl"
           }
          ],
          "scatterternary": [
           {
            "marker": {
             "colorbar": {
              "outlinewidth": 0,
              "ticks": ""
             }
            },
            "type": "scatterternary"
           }
          ],
          "surface": [
           {
            "colorbar": {
             "outlinewidth": 0,
             "ticks": ""
            },
            "colorscale": [
             [
              0,
              "#0d0887"
             ],
             [
              0.1111111111111111,
              "#46039f"
             ],
             [
              0.2222222222222222,
              "#7201a8"
             ],
             [
              0.3333333333333333,
              "#9c179e"
             ],
             [
              0.4444444444444444,
              "#bd3786"
             ],
             [
              0.5555555555555556,
              "#d8576b"
             ],
             [
              0.6666666666666666,
              "#ed7953"
             ],
             [
              0.7777777777777778,
              "#fb9f3a"
             ],
             [
              0.8888888888888888,
              "#fdca26"
             ],
             [
              1,
              "#f0f921"
             ]
            ],
            "type": "surface"
           }
          ],
          "table": [
           {
            "cells": {
             "fill": {
              "color": "#EBF0F8"
             },
             "line": {
              "color": "white"
             }
            },
            "header": {
             "fill": {
              "color": "#C8D4E3"
             },
             "line": {
              "color": "white"
             }
            },
            "type": "table"
           }
          ]
         },
         "layout": {
          "annotationdefaults": {
           "arrowcolor": "#2a3f5f",
           "arrowhead": 0,
           "arrowwidth": 1
          },
          "autotypenumbers": "strict",
          "coloraxis": {
           "colorbar": {
            "outlinewidth": 0,
            "ticks": ""
           }
          },
          "colorscale": {
           "diverging": [
            [
             0,
             "#8e0152"
            ],
            [
             0.1,
             "#c51b7d"
            ],
            [
             0.2,
             "#de77ae"
            ],
            [
             0.3,
             "#f1b6da"
            ],
            [
             0.4,
             "#fde0ef"
            ],
            [
             0.5,
             "#f7f7f7"
            ],
            [
             0.6,
             "#e6f5d0"
            ],
            [
             0.7,
             "#b8e186"
            ],
            [
             0.8,
             "#7fbc41"
            ],
            [
             0.9,
             "#4d9221"
            ],
            [
             1,
             "#276419"
            ]
           ],
           "sequential": [
            [
             0,
             "#0d0887"
            ],
            [
             0.1111111111111111,
             "#46039f"
            ],
            [
             0.2222222222222222,
             "#7201a8"
            ],
            [
             0.3333333333333333,
             "#9c179e"
            ],
            [
             0.4444444444444444,
             "#bd3786"
            ],
            [
             0.5555555555555556,
             "#d8576b"
            ],
            [
             0.6666666666666666,
             "#ed7953"
            ],
            [
             0.7777777777777778,
             "#fb9f3a"
            ],
            [
             0.8888888888888888,
             "#fdca26"
            ],
            [
             1,
             "#f0f921"
            ]
           ],
           "sequentialminus": [
            [
             0,
             "#0d0887"
            ],
            [
             0.1111111111111111,
             "#46039f"
            ],
            [
             0.2222222222222222,
             "#7201a8"
            ],
            [
             0.3333333333333333,
             "#9c179e"
            ],
            [
             0.4444444444444444,
             "#bd3786"
            ],
            [
             0.5555555555555556,
             "#d8576b"
            ],
            [
             0.6666666666666666,
             "#ed7953"
            ],
            [
             0.7777777777777778,
             "#fb9f3a"
            ],
            [
             0.8888888888888888,
             "#fdca26"
            ],
            [
             1,
             "#f0f921"
            ]
           ]
          },
          "colorway": [
           "#636efa",
           "#EF553B",
           "#00cc96",
           "#ab63fa",
           "#FFA15A",
           "#19d3f3",
           "#FF6692",
           "#B6E880",
           "#FF97FF",
           "#FECB52"
          ],
          "font": {
           "color": "#2a3f5f"
          },
          "geo": {
           "bgcolor": "white",
           "lakecolor": "white",
           "landcolor": "#E5ECF6",
           "showlakes": true,
           "showland": true,
           "subunitcolor": "white"
          },
          "hoverlabel": {
           "align": "left"
          },
          "hovermode": "closest",
          "mapbox": {
           "style": "light"
          },
          "paper_bgcolor": "white",
          "plot_bgcolor": "#E5ECF6",
          "polar": {
           "angularaxis": {
            "gridcolor": "white",
            "linecolor": "white",
            "ticks": ""
           },
           "bgcolor": "#E5ECF6",
           "radialaxis": {
            "gridcolor": "white",
            "linecolor": "white",
            "ticks": ""
           }
          },
          "scene": {
           "xaxis": {
            "backgroundcolor": "#E5ECF6",
            "gridcolor": "white",
            "gridwidth": 2,
            "linecolor": "white",
            "showbackground": true,
            "ticks": "",
            "zerolinecolor": "white"
           },
           "yaxis": {
            "backgroundcolor": "#E5ECF6",
            "gridcolor": "white",
            "gridwidth": 2,
            "linecolor": "white",
            "showbackground": true,
            "ticks": "",
            "zerolinecolor": "white"
           },
           "zaxis": {
            "backgroundcolor": "#E5ECF6",
            "gridcolor": "white",
            "gridwidth": 2,
            "linecolor": "white",
            "showbackground": true,
            "ticks": "",
            "zerolinecolor": "white"
           }
          },
          "shapedefaults": {
           "line": {
            "color": "#2a3f5f"
           }
          },
          "ternary": {
           "aaxis": {
            "gridcolor": "white",
            "linecolor": "white",
            "ticks": ""
           },
           "baxis": {
            "gridcolor": "white",
            "linecolor": "white",
            "ticks": ""
           },
           "bgcolor": "#E5ECF6",
           "caxis": {
            "gridcolor": "white",
            "linecolor": "white",
            "ticks": ""
           }
          },
          "title": {
           "x": 0.05
          },
          "xaxis": {
           "automargin": true,
           "gridcolor": "white",
           "linecolor": "white",
           "ticks": "",
           "title": {
            "standoff": 15
           },
           "zerolinecolor": "white",
           "zerolinewidth": 2
          },
          "yaxis": {
           "automargin": true,
           "gridcolor": "white",
           "linecolor": "white",
           "ticks": "",
           "title": {
            "standoff": 15
           },
           "zerolinecolor": "white",
           "zerolinewidth": 2
          }
         }
        },
        "title": {
         "text": "Cyprus"
        },
        "updatemenus": [
         {
          "buttons": [
           {
            "args": [
             null,
             {
              "frame": {
               "duration": 500,
               "redraw": false
              },
              "fromcurrent": true,
              "mode": "immediate",
              "transition": {
               "duration": 500,
               "easing": "linear"
              }
             }
            ],
            "label": "&#9654;",
            "method": "animate"
           },
           {
            "args": [
             [
              null
             ],
             {
              "frame": {
               "duration": 0,
               "redraw": false
              },
              "fromcurrent": true,
              "mode": "immediate",
              "transition": {
               "duration": 0,
               "easing": "linear"
              }
             }
            ],
            "label": "&#9724;",
            "method": "animate"
           }
          ],
          "direction": "left",
          "pad": {
           "r": 10,
           "t": 70
          },
          "showactive": false,
          "type": "buttons",
          "x": 0.1,
          "xanchor": "right",
          "y": 0,
          "yanchor": "top"
         }
        ],
        "xaxis": {
         "anchor": "y",
         "domain": [
          0,
          1
         ],
         "dtick": 5,
         "tick0": 0,
         "title": {
          "text": "Data Categories Scores"
         }
        },
        "yaxis": {
         "anchor": "x",
         "domain": [
          0,
          1
         ],
         "range": [
          -1,
          1
         ],
         "showticklabels": false,
         "title": {
          "text": "yaxis"
         },
         "visible": false
        }
       }
      },
      "text/html": [
       "<div>                            <div id=\"8c590344-2edd-44be-b572-98de62e3f02b\" class=\"plotly-graph-div\" style=\"height:525px; width:100%;\"></div>            <script type=\"text/javascript\">                require([\"plotly\"], function(Plotly) {                    window.PLOTLYENV=window.PLOTLYENV || {};                                    if (document.getElementById(\"8c590344-2edd-44be-b572-98de62e3f02b\")) {                    Plotly.newPlot(                        \"8c590344-2edd-44be-b572-98de62e3f02b\",                        [{\"customdata\":[[\"Population & vital statistics\"],[\"Education facilities\"],[\"Education outcomes\"],[\"Health facilities\"],[\"Health outcomes\"],[\"Reproductive health\"],[\"Food security & nutrition\"],[\"Gender statistics\"],[\"Crime & justice\"],[\"Poverty & income\"],[\"Social statistics subscore\"]],\"hovertemplate\":\"%{customdata[0]}<extra></extra>\",\"ids\":[\"Population & vital statistics\",\"Education facilities\",\"Education outcomes\",\"Health facilities\",\"Health outcomes\",\"Reproductive health\",\"Food security & nutrition\",\"Gender statistics\",\"Crime & justice\",\"Poverty & income\",\"Social statistics subscore\"],\"legendgroup\":\"Social statistics\",\"marker\":{\"color\":\"RebeccaPurple\",\"size\":[70,70,70,70,70,70,70,70,70,70,120],\"sizemode\":\"area\",\"sizeref\":0.3,\"symbol\":\"circle\"},\"mode\":\"markers+text\",\"name\":\"Social statistics\",\"orientation\":\"v\",\"showlegend\":true,\"text\":[\"\",\"\",\"\",\"\",\"\",\"\",\"\",\"\",\"\",\"\",\"Social statistics\"],\"x\":[60.0,30.0,29.3,28.6,20.0,27.9,12.5,40.0,39.3,59.3,35.7],\"xaxis\":\"x\",\"y\":[0.9,-0.9,0.9,-0.9,0.9,-0.9,0.9,-0.9,0.9,-0.9,0.9],\"yaxis\":\"y\",\"type\":\"scatter\",\"textposition\":\"top center\",\"textfont\":{\"color\":\"Black\"}},{\"customdata\":[[\"National accounts\"],[\"Labor\"],[\"Price indexes\"],[\"Government finance\"],[\"Money & banking\"],[\"International trade\"],[\"Balance of payments\"],[\"Economic & financial statistics subscore\"]],\"hovertemplate\":\"%{customdata[0]}<extra></extra>\",\"ids\":[\"National accounts\",\"Labor\",\"Price indexes\",\"Government finance\",\"Money & banking\",\"International trade\",\"Balance of payments\",\"Economic & financial statistics subscore\"],\"legendgroup\":\"Economic & financial statistics\",\"marker\":{\"color\":\"red\",\"size\":[70,70,70,70,70,70,70,120],\"sizemode\":\"area\",\"sizeref\":0.3,\"symbol\":\"circle\"},\"mode\":\"markers+text\",\"name\":\"Economic & financial statistics\",\"orientation\":\"v\",\"showlegend\":true,\"text\":[\"\",\"\",\"\",\"\",\"\",\"\",\"\",\"Economic & financial statistics\"],\"x\":[37.5,58.6,36.8,75.0,100.0,50.0,99.3,63.5],\"xaxis\":\"x\",\"y\":[-0.9,0.9,-0.9,0.9,-0.9,0.9,-0.9,0.9],\"yaxis\":\"y\",\"type\":\"scatter\",\"textposition\":\"top center\",\"textfont\":{\"color\":\"Black\"}},{\"customdata\":[[\"Agriculture & Land Use\"],[\"Resource use\"],[\"Energy\"],[\"Pollution\"],[\"Built environment\"],[\"Environment subscore\"]],\"hovertemplate\":\"%{customdata[0]}<extra></extra>\",\"ids\":[\"Agriculture & Land Use\",\"Resource use\",\"Energy\",\"Pollution\",\"Built environment\",\"Environment subscore\"],\"legendgroup\":\"Environmental statistics\",\"marker\":{\"color\":\"#021988\",\"size\":[70,70,70,70,70,120],\"sizemode\":\"area\",\"sizeref\":0.3,\"symbol\":\"circle\"},\"mode\":\"markers+text\",\"name\":\"Environmental statistics\",\"orientation\":\"v\",\"showlegend\":true,\"text\":[\"\",\"\",\"\",\"\",\"\",\"Environmental statistics\"],\"x\":[27.2,62.5,49.3,74.3,38.6,48.6],\"xaxis\":\"x\",\"y\":[-0.9,0.9,-0.9,0.9,-0.9,0.9],\"yaxis\":\"y\",\"type\":\"scatter\",\"textposition\":\"top center\",\"textfont\":{\"color\":\"Black\"}},{\"customdata\":[[\"All Categories\"]],\"hovertemplate\":\"%{customdata[0]}<extra></extra>\",\"ids\":[\"All Categories\"],\"legendgroup\":\"All Categories Score\",\"marker\":{\"color\":\"black\",\"size\":[120],\"sizemode\":\"area\",\"sizeref\":0.3,\"symbol\":\"circle\"},\"mode\":\"markers+text\",\"name\":\"All Categories Score\",\"orientation\":\"v\",\"showlegend\":true,\"text\":[\"All Categories Score\"],\"x\":[48.4],\"xaxis\":\"x\",\"y\":[-0.9],\"yaxis\":\"y\",\"type\":\"scatter\",\"textposition\":\"top center\",\"textfont\":{\"color\":\"Black\"}}],                        {\"template\":{\"data\":{\"bar\":[{\"error_x\":{\"color\":\"#2a3f5f\"},\"error_y\":{\"color\":\"#2a3f5f\"},\"marker\":{\"line\":{\"color\":\"#E5ECF6\",\"width\":0.5},\"pattern\":{\"fillmode\":\"overlay\",\"size\":10,\"solidity\":0.2}},\"type\":\"bar\"}],\"barpolar\":[{\"marker\":{\"line\":{\"color\":\"#E5ECF6\",\"width\":0.5},\"pattern\":{\"fillmode\":\"overlay\",\"size\":10,\"solidity\":0.2}},\"type\":\"barpolar\"}],\"carpet\":[{\"aaxis\":{\"endlinecolor\":\"#2a3f5f\",\"gridcolor\":\"white\",\"linecolor\":\"white\",\"minorgridcolor\":\"white\",\"startlinecolor\":\"#2a3f5f\"},\"baxis\":{\"endlinecolor\":\"#2a3f5f\",\"gridcolor\":\"white\",\"linecolor\":\"white\",\"minorgridcolor\":\"white\",\"startlinecolor\":\"#2a3f5f\"},\"type\":\"carpet\"}],\"choropleth\":[{\"colorbar\":{\"outlinewidth\":0,\"ticks\":\"\"},\"type\":\"choropleth\"}],\"contour\":[{\"colorbar\":{\"outlinewidth\":0,\"ticks\":\"\"},\"colorscale\":[[0.0,\"#0d0887\"],[0.1111111111111111,\"#46039f\"],[0.2222222222222222,\"#7201a8\"],[0.3333333333333333,\"#9c179e\"],[0.4444444444444444,\"#bd3786\"],[0.5555555555555556,\"#d8576b\"],[0.6666666666666666,\"#ed7953\"],[0.7777777777777778,\"#fb9f3a\"],[0.8888888888888888,\"#fdca26\"],[1.0,\"#f0f921\"]],\"type\":\"contour\"}],\"contourcarpet\":[{\"colorbar\":{\"outlinewidth\":0,\"ticks\":\"\"},\"type\":\"contourcarpet\"}],\"heatmap\":[{\"colorbar\":{\"outlinewidth\":0,\"ticks\":\"\"},\"colorscale\":[[0.0,\"#0d0887\"],[0.1111111111111111,\"#46039f\"],[0.2222222222222222,\"#7201a8\"],[0.3333333333333333,\"#9c179e\"],[0.4444444444444444,\"#bd3786\"],[0.5555555555555556,\"#d8576b\"],[0.6666666666666666,\"#ed7953\"],[0.7777777777777778,\"#fb9f3a\"],[0.8888888888888888,\"#fdca26\"],[1.0,\"#f0f921\"]],\"type\":\"heatmap\"}],\"heatmapgl\":[{\"colorbar\":{\"outlinewidth\":0,\"ticks\":\"\"},\"colorscale\":[[0.0,\"#0d0887\"],[0.1111111111111111,\"#46039f\"],[0.2222222222222222,\"#7201a8\"],[0.3333333333333333,\"#9c179e\"],[0.4444444444444444,\"#bd3786\"],[0.5555555555555556,\"#d8576b\"],[0.6666666666666666,\"#ed7953\"],[0.7777777777777778,\"#fb9f3a\"],[0.8888888888888888,\"#fdca26\"],[1.0,\"#f0f921\"]],\"type\":\"heatmapgl\"}],\"histogram\":[{\"marker\":{\"pattern\":{\"fillmode\":\"overlay\",\"size\":10,\"solidity\":0.2}},\"type\":\"histogram\"}],\"histogram2d\":[{\"colorbar\":{\"outlinewidth\":0,\"ticks\":\"\"},\"colorscale\":[[0.0,\"#0d0887\"],[0.1111111111111111,\"#46039f\"],[0.2222222222222222,\"#7201a8\"],[0.3333333333333333,\"#9c179e\"],[0.4444444444444444,\"#bd3786\"],[0.5555555555555556,\"#d8576b\"],[0.6666666666666666,\"#ed7953\"],[0.7777777777777778,\"#fb9f3a\"],[0.8888888888888888,\"#fdca26\"],[1.0,\"#f0f921\"]],\"type\":\"histogram2d\"}],\"histogram2dcontour\":[{\"colorbar\":{\"outlinewidth\":0,\"ticks\":\"\"},\"colorscale\":[[0.0,\"#0d0887\"],[0.1111111111111111,\"#46039f\"],[0.2222222222222222,\"#7201a8\"],[0.3333333333333333,\"#9c179e\"],[0.4444444444444444,\"#bd3786\"],[0.5555555555555556,\"#d8576b\"],[0.6666666666666666,\"#ed7953\"],[0.7777777777777778,\"#fb9f3a\"],[0.8888888888888888,\"#fdca26\"],[1.0,\"#f0f921\"]],\"type\":\"histogram2dcontour\"}],\"mesh3d\":[{\"colorbar\":{\"outlinewidth\":0,\"ticks\":\"\"},\"type\":\"mesh3d\"}],\"parcoords\":[{\"line\":{\"colorbar\":{\"outlinewidth\":0,\"ticks\":\"\"}},\"type\":\"parcoords\"}],\"pie\":[{\"automargin\":true,\"type\":\"pie\"}],\"scatter\":[{\"marker\":{\"colorbar\":{\"outlinewidth\":0,\"ticks\":\"\"}},\"type\":\"scatter\"}],\"scatter3d\":[{\"line\":{\"colorbar\":{\"outlinewidth\":0,\"ticks\":\"\"}},\"marker\":{\"colorbar\":{\"outlinewidth\":0,\"ticks\":\"\"}},\"type\":\"scatter3d\"}],\"scattercarpet\":[{\"marker\":{\"colorbar\":{\"outlinewidth\":0,\"ticks\":\"\"}},\"type\":\"scattercarpet\"}],\"scattergeo\":[{\"marker\":{\"colorbar\":{\"outlinewidth\":0,\"ticks\":\"\"}},\"type\":\"scattergeo\"}],\"scattergl\":[{\"marker\":{\"colorbar\":{\"outlinewidth\":0,\"ticks\":\"\"}},\"type\":\"scattergl\"}],\"scattermapbox\":[{\"marker\":{\"colorbar\":{\"outlinewidth\":0,\"ticks\":\"\"}},\"type\":\"scattermapbox\"}],\"scatterpolar\":[{\"marker\":{\"colorbar\":{\"outlinewidth\":0,\"ticks\":\"\"}},\"type\":\"scatterpolar\"}],\"scatterpolargl\":[{\"marker\":{\"colorbar\":{\"outlinewidth\":0,\"ticks\":\"\"}},\"type\":\"scatterpolargl\"}],\"scatterternary\":[{\"marker\":{\"colorbar\":{\"outlinewidth\":0,\"ticks\":\"\"}},\"type\":\"scatterternary\"}],\"surface\":[{\"colorbar\":{\"outlinewidth\":0,\"ticks\":\"\"},\"colorscale\":[[0.0,\"#0d0887\"],[0.1111111111111111,\"#46039f\"],[0.2222222222222222,\"#7201a8\"],[0.3333333333333333,\"#9c179e\"],[0.4444444444444444,\"#bd3786\"],[0.5555555555555556,\"#d8576b\"],[0.6666666666666666,\"#ed7953\"],[0.7777777777777778,\"#fb9f3a\"],[0.8888888888888888,\"#fdca26\"],[1.0,\"#f0f921\"]],\"type\":\"surface\"}],\"table\":[{\"cells\":{\"fill\":{\"color\":\"#EBF0F8\"},\"line\":{\"color\":\"white\"}},\"header\":{\"fill\":{\"color\":\"#C8D4E3\"},\"line\":{\"color\":\"white\"}},\"type\":\"table\"}]},\"layout\":{\"annotationdefaults\":{\"arrowcolor\":\"#2a3f5f\",\"arrowhead\":0,\"arrowwidth\":1},\"autotypenumbers\":\"strict\",\"coloraxis\":{\"colorbar\":{\"outlinewidth\":0,\"ticks\":\"\"}},\"colorscale\":{\"diverging\":[[0,\"#8e0152\"],[0.1,\"#c51b7d\"],[0.2,\"#de77ae\"],[0.3,\"#f1b6da\"],[0.4,\"#fde0ef\"],[0.5,\"#f7f7f7\"],[0.6,\"#e6f5d0\"],[0.7,\"#b8e186\"],[0.8,\"#7fbc41\"],[0.9,\"#4d9221\"],[1,\"#276419\"]],\"sequential\":[[0.0,\"#0d0887\"],[0.1111111111111111,\"#46039f\"],[0.2222222222222222,\"#7201a8\"],[0.3333333333333333,\"#9c179e\"],[0.4444444444444444,\"#bd3786\"],[0.5555555555555556,\"#d8576b\"],[0.6666666666666666,\"#ed7953\"],[0.7777777777777778,\"#fb9f3a\"],[0.8888888888888888,\"#fdca26\"],[1.0,\"#f0f921\"]],\"sequentialminus\":[[0.0,\"#0d0887\"],[0.1111111111111111,\"#46039f\"],[0.2222222222222222,\"#7201a8\"],[0.3333333333333333,\"#9c179e\"],[0.4444444444444444,\"#bd3786\"],[0.5555555555555556,\"#d8576b\"],[0.6666666666666666,\"#ed7953\"],[0.7777777777777778,\"#fb9f3a\"],[0.8888888888888888,\"#fdca26\"],[1.0,\"#f0f921\"]]},\"colorway\":[\"#636efa\",\"#EF553B\",\"#00cc96\",\"#ab63fa\",\"#FFA15A\",\"#19d3f3\",\"#FF6692\",\"#B6E880\",\"#FF97FF\",\"#FECB52\"],\"font\":{\"color\":\"#2a3f5f\"},\"geo\":{\"bgcolor\":\"white\",\"lakecolor\":\"white\",\"landcolor\":\"#E5ECF6\",\"showlakes\":true,\"showland\":true,\"subunitcolor\":\"white\"},\"hoverlabel\":{\"align\":\"left\"},\"hovermode\":\"closest\",\"mapbox\":{\"style\":\"light\"},\"paper_bgcolor\":\"white\",\"plot_bgcolor\":\"#E5ECF6\",\"polar\":{\"angularaxis\":{\"gridcolor\":\"white\",\"linecolor\":\"white\",\"ticks\":\"\"},\"bgcolor\":\"#E5ECF6\",\"radialaxis\":{\"gridcolor\":\"white\",\"linecolor\":\"white\",\"ticks\":\"\"}},\"scene\":{\"xaxis\":{\"backgroundcolor\":\"#E5ECF6\",\"gridcolor\":\"white\",\"gridwidth\":2,\"linecolor\":\"white\",\"showbackground\":true,\"ticks\":\"\",\"zerolinecolor\":\"white\"},\"yaxis\":{\"backgroundcolor\":\"#E5ECF6\",\"gridcolor\":\"white\",\"gridwidth\":2,\"linecolor\":\"white\",\"showbackground\":true,\"ticks\":\"\",\"zerolinecolor\":\"white\"},\"zaxis\":{\"backgroundcolor\":\"#E5ECF6\",\"gridcolor\":\"white\",\"gridwidth\":2,\"linecolor\":\"white\",\"showbackground\":true,\"ticks\":\"\",\"zerolinecolor\":\"white\"}},\"shapedefaults\":{\"line\":{\"color\":\"#2a3f5f\"}},\"ternary\":{\"aaxis\":{\"gridcolor\":\"white\",\"linecolor\":\"white\",\"ticks\":\"\"},\"baxis\":{\"gridcolor\":\"white\",\"linecolor\":\"white\",\"ticks\":\"\"},\"bgcolor\":\"#E5ECF6\",\"caxis\":{\"gridcolor\":\"white\",\"linecolor\":\"white\",\"ticks\":\"\"}},\"title\":{\"x\":0.05},\"xaxis\":{\"automargin\":true,\"gridcolor\":\"white\",\"linecolor\":\"white\",\"ticks\":\"\",\"title\":{\"standoff\":15},\"zerolinecolor\":\"white\",\"zerolinewidth\":2},\"yaxis\":{\"automargin\":true,\"gridcolor\":\"white\",\"linecolor\":\"white\",\"ticks\":\"\",\"title\":{\"standoff\":15},\"zerolinecolor\":\"white\",\"zerolinewidth\":2}}},\"xaxis\":{\"anchor\":\"y\",\"domain\":[0.0,1.0],\"title\":{\"text\":\"Data Categories Scores\"},\"tick0\":0,\"dtick\":5},\"yaxis\":{\"anchor\":\"x\",\"domain\":[0.0,1.0],\"title\":{\"text\":\"yaxis\"},\"range\":[-1,1],\"visible\":false,\"showticklabels\":false},\"legend\":{\"title\":{\"text\":\"Color Legend\"},\"tracegroupgap\":0,\"itemsizing\":\"constant\"},\"title\":{\"text\":\"Cyprus\"},\"updatemenus\":[{\"buttons\":[{\"args\":[null,{\"frame\":{\"duration\":500,\"redraw\":false},\"mode\":\"immediate\",\"fromcurrent\":true,\"transition\":{\"duration\":500,\"easing\":\"linear\"}}],\"label\":\"&#9654;\",\"method\":\"animate\"},{\"args\":[[null],{\"frame\":{\"duration\":0,\"redraw\":false},\"mode\":\"immediate\",\"fromcurrent\":true,\"transition\":{\"duration\":0,\"easing\":\"linear\"}}],\"label\":\"&#9724;\",\"method\":\"animate\"}],\"direction\":\"left\",\"pad\":{\"r\":10,\"t\":70},\"showactive\":false,\"type\":\"buttons\",\"x\":0.1,\"xanchor\":\"right\",\"y\":0,\"yanchor\":\"top\"}],\"sliders\":[{\"active\":0,\"currentvalue\":{\"prefix\":\"Animation=\"},\"len\":0.9,\"pad\":{\"b\":10,\"t\":60},\"steps\":[{\"args\":[[\"0\"],{\"frame\":{\"duration\":0,\"redraw\":false},\"mode\":\"immediate\",\"fromcurrent\":true,\"transition\":{\"duration\":0,\"easing\":\"linear\"}}],\"label\":\"0\",\"method\":\"animate\"},{\"args\":[[\"1\"],{\"frame\":{\"duration\":0,\"redraw\":false},\"mode\":\"immediate\",\"fromcurrent\":true,\"transition\":{\"duration\":0,\"easing\":\"linear\"}}],\"label\":\"1\",\"method\":\"animate\"},{\"args\":[[\"2\"],{\"frame\":{\"duration\":0,\"redraw\":false},\"mode\":\"immediate\",\"fromcurrent\":true,\"transition\":{\"duration\":0,\"easing\":\"linear\"}}],\"label\":\"2\",\"method\":\"animate\"},{\"args\":[[\"3\"],{\"frame\":{\"duration\":0,\"redraw\":false},\"mode\":\"immediate\",\"fromcurrent\":true,\"transition\":{\"duration\":0,\"easing\":\"linear\"}}],\"label\":\"3\",\"method\":\"animate\"},{\"args\":[[\"4\"],{\"frame\":{\"duration\":0,\"redraw\":false},\"mode\":\"immediate\",\"fromcurrent\":true,\"transition\":{\"duration\":0,\"easing\":\"linear\"}}],\"label\":\"4\",\"method\":\"animate\"},{\"args\":[[\"5\"],{\"frame\":{\"duration\":0,\"redraw\":false},\"mode\":\"immediate\",\"fromcurrent\":true,\"transition\":{\"duration\":0,\"easing\":\"linear\"}}],\"label\":\"5\",\"method\":\"animate\"},{\"args\":[[\"6\"],{\"frame\":{\"duration\":0,\"redraw\":false},\"mode\":\"immediate\",\"fromcurrent\":true,\"transition\":{\"duration\":0,\"easing\":\"linear\"}}],\"label\":\"6\",\"method\":\"animate\"},{\"args\":[[\"7\"],{\"frame\":{\"duration\":0,\"redraw\":false},\"mode\":\"immediate\",\"fromcurrent\":true,\"transition\":{\"duration\":0,\"easing\":\"linear\"}}],\"label\":\"7\",\"method\":\"animate\"},{\"args\":[[\"8\"],{\"frame\":{\"duration\":0,\"redraw\":false},\"mode\":\"immediate\",\"fromcurrent\":true,\"transition\":{\"duration\":0,\"easing\":\"linear\"}}],\"label\":\"8\",\"method\":\"animate\"},{\"args\":[[\"9\"],{\"frame\":{\"duration\":0,\"redraw\":false},\"mode\":\"immediate\",\"fromcurrent\":true,\"transition\":{\"duration\":0,\"easing\":\"linear\"}}],\"label\":\"9\",\"method\":\"animate\"}],\"x\":0.1,\"xanchor\":\"left\",\"y\":0,\"yanchor\":\"top\"}]},                        {\"responsive\": true}                    ).then(function(){\n",
       "                            Plotly.addFrames('8c590344-2edd-44be-b572-98de62e3f02b', [{\"data\":[{\"customdata\":[[\"Population & vital statistics\"],[\"Education facilities\"],[\"Education outcomes\"],[\"Health facilities\"],[\"Health outcomes\"],[\"Reproductive health\"],[\"Food security & nutrition\"],[\"Gender statistics\"],[\"Crime & justice\"],[\"Poverty & income\"],[\"Social statistics subscore\"]],\"hovertemplate\":\"%{customdata[0]}<extra></extra>\",\"ids\":[\"Population & vital statistics\",\"Education facilities\",\"Education outcomes\",\"Health facilities\",\"Health outcomes\",\"Reproductive health\",\"Food security & nutrition\",\"Gender statistics\",\"Crime & justice\",\"Poverty & income\",\"Social statistics subscore\"],\"legendgroup\":\"Social statistics\",\"marker\":{\"color\":\"RebeccaPurple\",\"size\":[70,70,70,70,70,70,70,70,70,70,120],\"sizemode\":\"area\",\"sizeref\":0.3,\"symbol\":\"circle\"},\"mode\":\"markers+text\",\"name\":\"Social statistics\",\"orientation\":\"v\",\"showlegend\":true,\"text\":[\"\",\"\",\"\",\"\",\"\",\"\",\"\",\"\",\"\",\"\",\"Social statistics\"],\"x\":[60.0,30.0,29.3,28.6,20.0,27.9,12.5,40.0,39.3,59.3,35.7],\"xaxis\":\"x\",\"y\":[0.9,-0.9,0.9,-0.9,0.9,-0.9,0.9,-0.9,0.9,-0.9,0.9],\"yaxis\":\"y\",\"type\":\"scatter\"},{\"customdata\":[[\"National accounts\"],[\"Labor\"],[\"Price indexes\"],[\"Government finance\"],[\"Money & banking\"],[\"International trade\"],[\"Balance of payments\"],[\"Economic & financial statistics subscore\"]],\"hovertemplate\":\"%{customdata[0]}<extra></extra>\",\"ids\":[\"National accounts\",\"Labor\",\"Price indexes\",\"Government finance\",\"Money & banking\",\"International trade\",\"Balance of payments\",\"Economic & financial statistics subscore\"],\"legendgroup\":\"Economic & financial statistics\",\"marker\":{\"color\":\"red\",\"size\":[70,70,70,70,70,70,70,120],\"sizemode\":\"area\",\"sizeref\":0.3,\"symbol\":\"circle\"},\"mode\":\"markers+text\",\"name\":\"Economic & financial statistics\",\"orientation\":\"v\",\"showlegend\":true,\"text\":[\"\",\"\",\"\",\"\",\"\",\"\",\"\",\"Economic & financial statistics\"],\"x\":[37.5,58.6,36.8,75.0,100.0,50.0,99.3,63.5],\"xaxis\":\"x\",\"y\":[-0.9,0.9,-0.9,0.9,-0.9,0.9,-0.9,0.9],\"yaxis\":\"y\",\"type\":\"scatter\"},{\"customdata\":[[\"Agriculture & Land Use\"],[\"Resource use\"],[\"Energy\"],[\"Pollution\"],[\"Built environment\"],[\"Environment subscore\"]],\"hovertemplate\":\"%{customdata[0]}<extra></extra>\",\"ids\":[\"Agriculture & Land Use\",\"Resource use\",\"Energy\",\"Pollution\",\"Built environment\",\"Environment subscore\"],\"legendgroup\":\"Environmental statistics\",\"marker\":{\"color\":\"#021988\",\"size\":[70,70,70,70,70,120],\"sizemode\":\"area\",\"sizeref\":0.3,\"symbol\":\"circle\"},\"mode\":\"markers+text\",\"name\":\"Environmental statistics\",\"orientation\":\"v\",\"showlegend\":true,\"text\":[\"\",\"\",\"\",\"\",\"\",\"Environmental statistics\"],\"x\":[27.2,62.5,49.3,74.3,38.6,48.6],\"xaxis\":\"x\",\"y\":[-0.9,0.9,-0.9,0.9,-0.9,0.9],\"yaxis\":\"y\",\"type\":\"scatter\"},{\"customdata\":[[\"All Categories\"]],\"hovertemplate\":\"%{customdata[0]}<extra></extra>\",\"ids\":[\"All Categories\"],\"legendgroup\":\"All Categories Score\",\"marker\":{\"color\":\"black\",\"size\":[120],\"sizemode\":\"area\",\"sizeref\":0.3,\"symbol\":\"circle\"},\"mode\":\"markers+text\",\"name\":\"All Categories Score\",\"orientation\":\"v\",\"showlegend\":true,\"text\":[\"All Categories Score\"],\"x\":[48.4],\"xaxis\":\"x\",\"y\":[-0.9],\"yaxis\":\"y\",\"type\":\"scatter\"}],\"name\":\"0\"},{\"data\":[{\"customdata\":[[\"Population & vital statistics\"],[\"Education facilities\"],[\"Education outcomes\"],[\"Health facilities\"],[\"Health outcomes\"],[\"Reproductive health\"],[\"Food security & nutrition\"],[\"Gender statistics\"],[\"Crime & justice\"],[\"Poverty & income\"],[\"Social statistics subscore\"]],\"hovertemplate\":\"%{customdata[0]}<extra></extra>\",\"ids\":[\"Population & vital statistics\",\"Education facilities\",\"Education outcomes\",\"Health facilities\",\"Health outcomes\",\"Reproductive health\",\"Food security & nutrition\",\"Gender statistics\",\"Crime & justice\",\"Poverty & income\",\"Social statistics subscore\"],\"legendgroup\":\"Social statistics\",\"marker\":{\"color\":\"RebeccaPurple\",\"size\":[70,70,70,70,70,70,70,70,70,70,120],\"sizemode\":\"area\",\"sizeref\":0.3,\"symbol\":\"circle\"},\"mode\":\"markers+text\",\"name\":\"Social statistics\",\"orientation\":\"v\",\"showlegend\":true,\"text\":[\"\",\"\",\"\",\"\",\"\",\"\",\"\",\"\",\"\",\"\",\"Social statistics\"],\"x\":[60.0,30.0,29.3,28.6,20.0,27.9,12.5,40.0,39.3,59.3,35.7],\"xaxis\":\"x\",\"y\":[0.8,-0.8,0.8,-0.8,0.8,-0.8,0.8,-0.8,0.8,-0.8,0.8],\"yaxis\":\"y\",\"type\":\"scatter\"},{\"customdata\":[[\"National accounts\"],[\"Labor\"],[\"Price indexes\"],[\"Government finance\"],[\"Money & banking\"],[\"International trade\"],[\"Balance of payments\"],[\"Economic & financial statistics subscore\"]],\"hovertemplate\":\"%{customdata[0]}<extra></extra>\",\"ids\":[\"National accounts\",\"Labor\",\"Price indexes\",\"Government finance\",\"Money & banking\",\"International trade\",\"Balance of payments\",\"Economic & financial statistics subscore\"],\"legendgroup\":\"Economic & financial statistics\",\"marker\":{\"color\":\"red\",\"size\":[70,70,70,70,70,70,70,120],\"sizemode\":\"area\",\"sizeref\":0.3,\"symbol\":\"circle\"},\"mode\":\"markers+text\",\"name\":\"Economic & financial statistics\",\"orientation\":\"v\",\"showlegend\":true,\"text\":[\"\",\"\",\"\",\"\",\"\",\"\",\"\",\"Economic & financial statistics\"],\"x\":[37.5,58.6,36.8,75.0,100.0,50.0,99.3,63.5],\"xaxis\":\"x\",\"y\":[-0.8,0.8,-0.8,0.8,-0.8,0.8,-0.8,0.8],\"yaxis\":\"y\",\"type\":\"scatter\"},{\"customdata\":[[\"Agriculture & Land Use\"],[\"Resource use\"],[\"Energy\"],[\"Pollution\"],[\"Built environment\"],[\"Environment subscore\"]],\"hovertemplate\":\"%{customdata[0]}<extra></extra>\",\"ids\":[\"Agriculture & Land Use\",\"Resource use\",\"Energy\",\"Pollution\",\"Built environment\",\"Environment subscore\"],\"legendgroup\":\"Environmental statistics\",\"marker\":{\"color\":\"#021988\",\"size\":[70,70,70,70,70,120],\"sizemode\":\"area\",\"sizeref\":0.3,\"symbol\":\"circle\"},\"mode\":\"markers+text\",\"name\":\"Environmental statistics\",\"orientation\":\"v\",\"showlegend\":true,\"text\":[\"\",\"\",\"\",\"\",\"\",\"Environmental statistics\"],\"x\":[27.2,62.5,49.3,74.3,38.6,48.6],\"xaxis\":\"x\",\"y\":[-0.8,0.8,-0.8,0.8,-0.8,0.8],\"yaxis\":\"y\",\"type\":\"scatter\"},{\"customdata\":[[\"All Categories\"]],\"hovertemplate\":\"%{customdata[0]}<extra></extra>\",\"ids\":[\"All Categories\"],\"legendgroup\":\"All Categories Score\",\"marker\":{\"color\":\"black\",\"size\":[120],\"sizemode\":\"area\",\"sizeref\":0.3,\"symbol\":\"circle\"},\"mode\":\"markers+text\",\"name\":\"All Categories Score\",\"orientation\":\"v\",\"showlegend\":true,\"text\":[\"All Categories Score\"],\"x\":[48.4],\"xaxis\":\"x\",\"y\":[-0.8],\"yaxis\":\"y\",\"type\":\"scatter\"}],\"name\":\"1\"},{\"data\":[{\"customdata\":[[\"Population & vital statistics\"],[\"Education facilities\"],[\"Education outcomes\"],[\"Health facilities\"],[\"Health outcomes\"],[\"Reproductive health\"],[\"Food security & nutrition\"],[\"Gender statistics\"],[\"Crime & justice\"],[\"Poverty & income\"],[\"Social statistics subscore\"]],\"hovertemplate\":\"%{customdata[0]}<extra></extra>\",\"ids\":[\"Population & vital statistics\",\"Education facilities\",\"Education outcomes\",\"Health facilities\",\"Health outcomes\",\"Reproductive health\",\"Food security & nutrition\",\"Gender statistics\",\"Crime & justice\",\"Poverty & income\",\"Social statistics subscore\"],\"legendgroup\":\"Social statistics\",\"marker\":{\"color\":\"RebeccaPurple\",\"size\":[70,70,70,70,70,70,70,70,70,70,120],\"sizemode\":\"area\",\"sizeref\":0.3,\"symbol\":\"circle\"},\"mode\":\"markers+text\",\"name\":\"Social statistics\",\"orientation\":\"v\",\"showlegend\":true,\"text\":[\"\",\"\",\"\",\"\",\"\",\"\",\"\",\"\",\"\",\"\",\"Social statistics\"],\"x\":[60.0,30.0,29.3,28.6,20.0,27.9,12.5,40.0,39.3,59.3,35.7],\"xaxis\":\"x\",\"y\":[0.7000000000000001,-0.7000000000000001,0.7000000000000001,-0.7000000000000001,0.7000000000000001,-0.7000000000000001,0.7000000000000001,-0.7000000000000001,0.7000000000000001,-0.7000000000000001,0.7000000000000001],\"yaxis\":\"y\",\"type\":\"scatter\"},{\"customdata\":[[\"National accounts\"],[\"Labor\"],[\"Price indexes\"],[\"Government finance\"],[\"Money & banking\"],[\"International trade\"],[\"Balance of payments\"],[\"Economic & financial statistics subscore\"]],\"hovertemplate\":\"%{customdata[0]}<extra></extra>\",\"ids\":[\"National accounts\",\"Labor\",\"Price indexes\",\"Government finance\",\"Money & banking\",\"International trade\",\"Balance of payments\",\"Economic & financial statistics subscore\"],\"legendgroup\":\"Economic & financial statistics\",\"marker\":{\"color\":\"red\",\"size\":[70,70,70,70,70,70,70,120],\"sizemode\":\"area\",\"sizeref\":0.3,\"symbol\":\"circle\"},\"mode\":\"markers+text\",\"name\":\"Economic & financial statistics\",\"orientation\":\"v\",\"showlegend\":true,\"text\":[\"\",\"\",\"\",\"\",\"\",\"\",\"\",\"Economic & financial statistics\"],\"x\":[37.5,58.6,36.8,75.0,100.0,50.0,99.3,63.5],\"xaxis\":\"x\",\"y\":[-0.7000000000000001,0.7000000000000001,-0.7000000000000001,0.7000000000000001,-0.7000000000000001,0.7000000000000001,-0.7000000000000001,0.7000000000000001],\"yaxis\":\"y\",\"type\":\"scatter\"},{\"customdata\":[[\"Agriculture & Land Use\"],[\"Resource use\"],[\"Energy\"],[\"Pollution\"],[\"Built environment\"],[\"Environment subscore\"]],\"hovertemplate\":\"%{customdata[0]}<extra></extra>\",\"ids\":[\"Agriculture & Land Use\",\"Resource use\",\"Energy\",\"Pollution\",\"Built environment\",\"Environment subscore\"],\"legendgroup\":\"Environmental statistics\",\"marker\":{\"color\":\"#021988\",\"size\":[70,70,70,70,70,120],\"sizemode\":\"area\",\"sizeref\":0.3,\"symbol\":\"circle\"},\"mode\":\"markers+text\",\"name\":\"Environmental statistics\",\"orientation\":\"v\",\"showlegend\":true,\"text\":[\"\",\"\",\"\",\"\",\"\",\"Environmental statistics\"],\"x\":[27.2,62.5,49.3,74.3,38.6,48.6],\"xaxis\":\"x\",\"y\":[-0.7000000000000001,0.7000000000000001,-0.7000000000000001,0.7000000000000001,-0.7000000000000001,0.7000000000000001],\"yaxis\":\"y\",\"type\":\"scatter\"},{\"customdata\":[[\"All Categories\"]],\"hovertemplate\":\"%{customdata[0]}<extra></extra>\",\"ids\":[\"All Categories\"],\"legendgroup\":\"All Categories Score\",\"marker\":{\"color\":\"black\",\"size\":[120],\"sizemode\":\"area\",\"sizeref\":0.3,\"symbol\":\"circle\"},\"mode\":\"markers+text\",\"name\":\"All Categories Score\",\"orientation\":\"v\",\"showlegend\":true,\"text\":[\"All Categories Score\"],\"x\":[48.4],\"xaxis\":\"x\",\"y\":[-0.7000000000000001],\"yaxis\":\"y\",\"type\":\"scatter\"}],\"name\":\"2\"},{\"data\":[{\"customdata\":[[\"Population & vital statistics\"],[\"Education facilities\"],[\"Education outcomes\"],[\"Health facilities\"],[\"Health outcomes\"],[\"Reproductive health\"],[\"Food security & nutrition\"],[\"Gender statistics\"],[\"Crime & justice\"],[\"Poverty & income\"],[\"Social statistics subscore\"]],\"hovertemplate\":\"%{customdata[0]}<extra></extra>\",\"ids\":[\"Population & vital statistics\",\"Education facilities\",\"Education outcomes\",\"Health facilities\",\"Health outcomes\",\"Reproductive health\",\"Food security & nutrition\",\"Gender statistics\",\"Crime & justice\",\"Poverty & income\",\"Social statistics subscore\"],\"legendgroup\":\"Social statistics\",\"marker\":{\"color\":\"RebeccaPurple\",\"size\":[70,70,70,70,70,70,70,70,70,70,120],\"sizemode\":\"area\",\"sizeref\":0.3,\"symbol\":\"circle\"},\"mode\":\"markers+text\",\"name\":\"Social statistics\",\"orientation\":\"v\",\"showlegend\":true,\"text\":[\"\",\"\",\"\",\"\",\"\",\"\",\"\",\"\",\"\",\"\",\"Social statistics\"],\"x\":[60.0,30.0,29.3,28.6,20.0,27.9,12.5,40.0,39.3,59.3,35.7],\"xaxis\":\"x\",\"y\":[0.6000000000000001,-0.6000000000000001,0.6000000000000001,-0.6000000000000001,0.6000000000000001,-0.6000000000000001,0.6000000000000001,-0.6000000000000001,0.6000000000000001,-0.6000000000000001,0.6000000000000001],\"yaxis\":\"y\",\"type\":\"scatter\"},{\"customdata\":[[\"National accounts\"],[\"Labor\"],[\"Price indexes\"],[\"Government finance\"],[\"Money & banking\"],[\"International trade\"],[\"Balance of payments\"],[\"Economic & financial statistics subscore\"]],\"hovertemplate\":\"%{customdata[0]}<extra></extra>\",\"ids\":[\"National accounts\",\"Labor\",\"Price indexes\",\"Government finance\",\"Money & banking\",\"International trade\",\"Balance of payments\",\"Economic & financial statistics subscore\"],\"legendgroup\":\"Economic & financial statistics\",\"marker\":{\"color\":\"red\",\"size\":[70,70,70,70,70,70,70,120],\"sizemode\":\"area\",\"sizeref\":0.3,\"symbol\":\"circle\"},\"mode\":\"markers+text\",\"name\":\"Economic & financial statistics\",\"orientation\":\"v\",\"showlegend\":true,\"text\":[\"\",\"\",\"\",\"\",\"\",\"\",\"\",\"Economic & financial statistics\"],\"x\":[37.5,58.6,36.8,75.0,100.0,50.0,99.3,63.5],\"xaxis\":\"x\",\"y\":[-0.6000000000000001,0.6000000000000001,-0.6000000000000001,0.6000000000000001,-0.6000000000000001,0.6000000000000001,-0.6000000000000001,0.6000000000000001],\"yaxis\":\"y\",\"type\":\"scatter\"},{\"customdata\":[[\"Agriculture & Land Use\"],[\"Resource use\"],[\"Energy\"],[\"Pollution\"],[\"Built environment\"],[\"Environment subscore\"]],\"hovertemplate\":\"%{customdata[0]}<extra></extra>\",\"ids\":[\"Agriculture & Land Use\",\"Resource use\",\"Energy\",\"Pollution\",\"Built environment\",\"Environment subscore\"],\"legendgroup\":\"Environmental statistics\",\"marker\":{\"color\":\"#021988\",\"size\":[70,70,70,70,70,120],\"sizemode\":\"area\",\"sizeref\":0.3,\"symbol\":\"circle\"},\"mode\":\"markers+text\",\"name\":\"Environmental statistics\",\"orientation\":\"v\",\"showlegend\":true,\"text\":[\"\",\"\",\"\",\"\",\"\",\"Environmental statistics\"],\"x\":[27.2,62.5,49.3,74.3,38.6,48.6],\"xaxis\":\"x\",\"y\":[-0.6000000000000001,0.6000000000000001,-0.6000000000000001,0.6000000000000001,-0.6000000000000001,0.6000000000000001],\"yaxis\":\"y\",\"type\":\"scatter\"},{\"customdata\":[[\"All Categories\"]],\"hovertemplate\":\"%{customdata[0]}<extra></extra>\",\"ids\":[\"All Categories\"],\"legendgroup\":\"All Categories Score\",\"marker\":{\"color\":\"black\",\"size\":[120],\"sizemode\":\"area\",\"sizeref\":0.3,\"symbol\":\"circle\"},\"mode\":\"markers+text\",\"name\":\"All Categories Score\",\"orientation\":\"v\",\"showlegend\":true,\"text\":[\"All Categories Score\"],\"x\":[48.4],\"xaxis\":\"x\",\"y\":[-0.6000000000000001],\"yaxis\":\"y\",\"type\":\"scatter\"}],\"name\":\"3\"},{\"data\":[{\"customdata\":[[\"Population & vital statistics\"],[\"Education facilities\"],[\"Education outcomes\"],[\"Health facilities\"],[\"Health outcomes\"],[\"Reproductive health\"],[\"Food security & nutrition\"],[\"Gender statistics\"],[\"Crime & justice\"],[\"Poverty & income\"],[\"Social statistics subscore\"]],\"hovertemplate\":\"%{customdata[0]}<extra></extra>\",\"ids\":[\"Population & vital statistics\",\"Education facilities\",\"Education outcomes\",\"Health facilities\",\"Health outcomes\",\"Reproductive health\",\"Food security & nutrition\",\"Gender statistics\",\"Crime & justice\",\"Poverty & income\",\"Social statistics subscore\"],\"legendgroup\":\"Social statistics\",\"marker\":{\"color\":\"RebeccaPurple\",\"size\":[70,70,70,70,70,70,70,70,70,70,120],\"sizemode\":\"area\",\"sizeref\":0.3,\"symbol\":\"circle\"},\"mode\":\"markers+text\",\"name\":\"Social statistics\",\"orientation\":\"v\",\"showlegend\":true,\"text\":[\"\",\"\",\"\",\"\",\"\",\"\",\"\",\"\",\"\",\"\",\"Social statistics\"],\"x\":[60.0,30.0,29.3,28.6,20.0,27.9,12.5,40.0,39.3,59.3,35.7],\"xaxis\":\"x\",\"y\":[0.5000000000000001,-0.5000000000000001,0.5000000000000001,-0.5000000000000001,0.5000000000000001,-0.5000000000000001,0.5000000000000001,-0.5000000000000001,0.5000000000000001,-0.5000000000000001,0.5000000000000001],\"yaxis\":\"y\",\"type\":\"scatter\"},{\"customdata\":[[\"National accounts\"],[\"Labor\"],[\"Price indexes\"],[\"Government finance\"],[\"Money & banking\"],[\"International trade\"],[\"Balance of payments\"],[\"Economic & financial statistics subscore\"]],\"hovertemplate\":\"%{customdata[0]}<extra></extra>\",\"ids\":[\"National accounts\",\"Labor\",\"Price indexes\",\"Government finance\",\"Money & banking\",\"International trade\",\"Balance of payments\",\"Economic & financial statistics subscore\"],\"legendgroup\":\"Economic & financial statistics\",\"marker\":{\"color\":\"red\",\"size\":[70,70,70,70,70,70,70,120],\"sizemode\":\"area\",\"sizeref\":0.3,\"symbol\":\"circle\"},\"mode\":\"markers+text\",\"name\":\"Economic & financial statistics\",\"orientation\":\"v\",\"showlegend\":true,\"text\":[\"\",\"\",\"\",\"\",\"\",\"\",\"\",\"Economic & financial statistics\"],\"x\":[37.5,58.6,36.8,75.0,100.0,50.0,99.3,63.5],\"xaxis\":\"x\",\"y\":[-0.5000000000000001,0.5000000000000001,-0.5000000000000001,0.5000000000000001,-0.5000000000000001,0.5000000000000001,-0.5000000000000001,0.5000000000000001],\"yaxis\":\"y\",\"type\":\"scatter\"},{\"customdata\":[[\"Agriculture & Land Use\"],[\"Resource use\"],[\"Energy\"],[\"Pollution\"],[\"Built environment\"],[\"Environment subscore\"]],\"hovertemplate\":\"%{customdata[0]}<extra></extra>\",\"ids\":[\"Agriculture & Land Use\",\"Resource use\",\"Energy\",\"Pollution\",\"Built environment\",\"Environment subscore\"],\"legendgroup\":\"Environmental statistics\",\"marker\":{\"color\":\"#021988\",\"size\":[70,70,70,70,70,120],\"sizemode\":\"area\",\"sizeref\":0.3,\"symbol\":\"circle\"},\"mode\":\"markers+text\",\"name\":\"Environmental statistics\",\"orientation\":\"v\",\"showlegend\":true,\"text\":[\"\",\"\",\"\",\"\",\"\",\"Environmental statistics\"],\"x\":[27.2,62.5,49.3,74.3,38.6,48.6],\"xaxis\":\"x\",\"y\":[-0.5000000000000001,0.5000000000000001,-0.5000000000000001,0.5000000000000001,-0.5000000000000001,0.5000000000000001],\"yaxis\":\"y\",\"type\":\"scatter\"},{\"customdata\":[[\"All Categories\"]],\"hovertemplate\":\"%{customdata[0]}<extra></extra>\",\"ids\":[\"All Categories\"],\"legendgroup\":\"All Categories Score\",\"marker\":{\"color\":\"black\",\"size\":[120],\"sizemode\":\"area\",\"sizeref\":0.3,\"symbol\":\"circle\"},\"mode\":\"markers+text\",\"name\":\"All Categories Score\",\"orientation\":\"v\",\"showlegend\":true,\"text\":[\"All Categories Score\"],\"x\":[48.4],\"xaxis\":\"x\",\"y\":[-0.5000000000000001],\"yaxis\":\"y\",\"type\":\"scatter\"}],\"name\":\"4\"},{\"data\":[{\"customdata\":[[\"Population & vital statistics\"],[\"Education facilities\"],[\"Education outcomes\"],[\"Health facilities\"],[\"Health outcomes\"],[\"Reproductive health\"],[\"Food security & nutrition\"],[\"Gender statistics\"],[\"Crime & justice\"],[\"Poverty & income\"],[\"Social statistics subscore\"]],\"hovertemplate\":\"%{customdata[0]}<extra></extra>\",\"ids\":[\"Population & vital statistics\",\"Education facilities\",\"Education outcomes\",\"Health facilities\",\"Health outcomes\",\"Reproductive health\",\"Food security & nutrition\",\"Gender statistics\",\"Crime & justice\",\"Poverty & income\",\"Social statistics subscore\"],\"legendgroup\":\"Social statistics\",\"marker\":{\"color\":\"RebeccaPurple\",\"size\":[70,70,70,70,70,70,70,70,70,70,120],\"sizemode\":\"area\",\"sizeref\":0.3,\"symbol\":\"circle\"},\"mode\":\"markers+text\",\"name\":\"Social statistics\",\"orientation\":\"v\",\"showlegend\":true,\"text\":[\"\",\"\",\"\",\"\",\"\",\"\",\"\",\"\",\"\",\"\",\"Social statistics\"],\"x\":[60.0,30.0,29.3,28.6,20.0,27.9,12.5,40.0,39.3,59.3,35.7],\"xaxis\":\"x\",\"y\":[0.40000000000000013,-0.40000000000000013,0.40000000000000013,-0.40000000000000013,0.40000000000000013,-0.40000000000000013,0.40000000000000013,-0.40000000000000013,0.40000000000000013,-0.40000000000000013,0.40000000000000013],\"yaxis\":\"y\",\"type\":\"scatter\"},{\"customdata\":[[\"National accounts\"],[\"Labor\"],[\"Price indexes\"],[\"Government finance\"],[\"Money & banking\"],[\"International trade\"],[\"Balance of payments\"],[\"Economic & financial statistics subscore\"]],\"hovertemplate\":\"%{customdata[0]}<extra></extra>\",\"ids\":[\"National accounts\",\"Labor\",\"Price indexes\",\"Government finance\",\"Money & banking\",\"International trade\",\"Balance of payments\",\"Economic & financial statistics subscore\"],\"legendgroup\":\"Economic & financial statistics\",\"marker\":{\"color\":\"red\",\"size\":[70,70,70,70,70,70,70,120],\"sizemode\":\"area\",\"sizeref\":0.3,\"symbol\":\"circle\"},\"mode\":\"markers+text\",\"name\":\"Economic & financial statistics\",\"orientation\":\"v\",\"showlegend\":true,\"text\":[\"\",\"\",\"\",\"\",\"\",\"\",\"\",\"Economic & financial statistics\"],\"x\":[37.5,58.6,36.8,75.0,100.0,50.0,99.3,63.5],\"xaxis\":\"x\",\"y\":[-0.40000000000000013,0.40000000000000013,-0.40000000000000013,0.40000000000000013,-0.40000000000000013,0.40000000000000013,-0.40000000000000013,0.40000000000000013],\"yaxis\":\"y\",\"type\":\"scatter\"},{\"customdata\":[[\"Agriculture & Land Use\"],[\"Resource use\"],[\"Energy\"],[\"Pollution\"],[\"Built environment\"],[\"Environment subscore\"]],\"hovertemplate\":\"%{customdata[0]}<extra></extra>\",\"ids\":[\"Agriculture & Land Use\",\"Resource use\",\"Energy\",\"Pollution\",\"Built environment\",\"Environment subscore\"],\"legendgroup\":\"Environmental statistics\",\"marker\":{\"color\":\"#021988\",\"size\":[70,70,70,70,70,120],\"sizemode\":\"area\",\"sizeref\":0.3,\"symbol\":\"circle\"},\"mode\":\"markers+text\",\"name\":\"Environmental statistics\",\"orientation\":\"v\",\"showlegend\":true,\"text\":[\"\",\"\",\"\",\"\",\"\",\"Environmental statistics\"],\"x\":[27.2,62.5,49.3,74.3,38.6,48.6],\"xaxis\":\"x\",\"y\":[-0.40000000000000013,0.40000000000000013,-0.40000000000000013,0.40000000000000013,-0.40000000000000013,0.40000000000000013],\"yaxis\":\"y\",\"type\":\"scatter\"},{\"customdata\":[[\"All Categories\"]],\"hovertemplate\":\"%{customdata[0]}<extra></extra>\",\"ids\":[\"All Categories\"],\"legendgroup\":\"All Categories Score\",\"marker\":{\"color\":\"black\",\"size\":[120],\"sizemode\":\"area\",\"sizeref\":0.3,\"symbol\":\"circle\"},\"mode\":\"markers+text\",\"name\":\"All Categories Score\",\"orientation\":\"v\",\"showlegend\":true,\"text\":[\"All Categories Score\"],\"x\":[48.4],\"xaxis\":\"x\",\"y\":[-0.40000000000000013],\"yaxis\":\"y\",\"type\":\"scatter\"}],\"name\":\"5\"},{\"data\":[{\"customdata\":[[\"Population & vital statistics\"],[\"Education facilities\"],[\"Education outcomes\"],[\"Health facilities\"],[\"Health outcomes\"],[\"Reproductive health\"],[\"Food security & nutrition\"],[\"Gender statistics\"],[\"Crime & justice\"],[\"Poverty & income\"],[\"Social statistics subscore\"]],\"hovertemplate\":\"%{customdata[0]}<extra></extra>\",\"ids\":[\"Population & vital statistics\",\"Education facilities\",\"Education outcomes\",\"Health facilities\",\"Health outcomes\",\"Reproductive health\",\"Food security & nutrition\",\"Gender statistics\",\"Crime & justice\",\"Poverty & income\",\"Social statistics subscore\"],\"legendgroup\":\"Social statistics\",\"marker\":{\"color\":\"RebeccaPurple\",\"size\":[70,70,70,70,70,70,70,70,70,70,120],\"sizemode\":\"area\",\"sizeref\":0.3,\"symbol\":\"circle\"},\"mode\":\"markers+text\",\"name\":\"Social statistics\",\"orientation\":\"v\",\"showlegend\":true,\"text\":[\"\",\"\",\"\",\"\",\"\",\"\",\"\",\"\",\"\",\"\",\"Social statistics\"],\"x\":[60.0,30.0,29.3,28.6,20.0,27.9,12.5,40.0,39.3,59.3,35.7],\"xaxis\":\"x\",\"y\":[0.30000000000000016,-0.30000000000000016,0.30000000000000016,-0.30000000000000016,0.30000000000000016,-0.30000000000000016,0.30000000000000016,-0.30000000000000016,0.30000000000000016,-0.30000000000000016,0.30000000000000016],\"yaxis\":\"y\",\"type\":\"scatter\"},{\"customdata\":[[\"National accounts\"],[\"Labor\"],[\"Price indexes\"],[\"Government finance\"],[\"Money & banking\"],[\"International trade\"],[\"Balance of payments\"],[\"Economic & financial statistics subscore\"]],\"hovertemplate\":\"%{customdata[0]}<extra></extra>\",\"ids\":[\"National accounts\",\"Labor\",\"Price indexes\",\"Government finance\",\"Money & banking\",\"International trade\",\"Balance of payments\",\"Economic & financial statistics subscore\"],\"legendgroup\":\"Economic & financial statistics\",\"marker\":{\"color\":\"red\",\"size\":[70,70,70,70,70,70,70,120],\"sizemode\":\"area\",\"sizeref\":0.3,\"symbol\":\"circle\"},\"mode\":\"markers+text\",\"name\":\"Economic & financial statistics\",\"orientation\":\"v\",\"showlegend\":true,\"text\":[\"\",\"\",\"\",\"\",\"\",\"\",\"\",\"Economic & financial statistics\"],\"x\":[37.5,58.6,36.8,75.0,100.0,50.0,99.3,63.5],\"xaxis\":\"x\",\"y\":[-0.30000000000000016,0.30000000000000016,-0.30000000000000016,0.30000000000000016,-0.30000000000000016,0.30000000000000016,-0.30000000000000016,0.30000000000000016],\"yaxis\":\"y\",\"type\":\"scatter\"},{\"customdata\":[[\"Agriculture & Land Use\"],[\"Resource use\"],[\"Energy\"],[\"Pollution\"],[\"Built environment\"],[\"Environment subscore\"]],\"hovertemplate\":\"%{customdata[0]}<extra></extra>\",\"ids\":[\"Agriculture & Land Use\",\"Resource use\",\"Energy\",\"Pollution\",\"Built environment\",\"Environment subscore\"],\"legendgroup\":\"Environmental statistics\",\"marker\":{\"color\":\"#021988\",\"size\":[70,70,70,70,70,120],\"sizemode\":\"area\",\"sizeref\":0.3,\"symbol\":\"circle\"},\"mode\":\"markers+text\",\"name\":\"Environmental statistics\",\"orientation\":\"v\",\"showlegend\":true,\"text\":[\"\",\"\",\"\",\"\",\"\",\"Environmental statistics\"],\"x\":[27.2,62.5,49.3,74.3,38.6,48.6],\"xaxis\":\"x\",\"y\":[-0.30000000000000016,0.30000000000000016,-0.30000000000000016,0.30000000000000016,-0.30000000000000016,0.30000000000000016],\"yaxis\":\"y\",\"type\":\"scatter\"},{\"customdata\":[[\"All Categories\"]],\"hovertemplate\":\"%{customdata[0]}<extra></extra>\",\"ids\":[\"All Categories\"],\"legendgroup\":\"All Categories Score\",\"marker\":{\"color\":\"black\",\"size\":[120],\"sizemode\":\"area\",\"sizeref\":0.3,\"symbol\":\"circle\"},\"mode\":\"markers+text\",\"name\":\"All Categories Score\",\"orientation\":\"v\",\"showlegend\":true,\"text\":[\"All Categories Score\"],\"x\":[48.4],\"xaxis\":\"x\",\"y\":[-0.30000000000000016],\"yaxis\":\"y\",\"type\":\"scatter\"}],\"name\":\"6\"},{\"data\":[{\"customdata\":[[\"Population & vital statistics\"],[\"Education facilities\"],[\"Education outcomes\"],[\"Health facilities\"],[\"Health outcomes\"],[\"Reproductive health\"],[\"Food security & nutrition\"],[\"Gender statistics\"],[\"Crime & justice\"],[\"Poverty & income\"],[\"Social statistics subscore\"]],\"hovertemplate\":\"%{customdata[0]}<extra></extra>\",\"ids\":[\"Population & vital statistics\",\"Education facilities\",\"Education outcomes\",\"Health facilities\",\"Health outcomes\",\"Reproductive health\",\"Food security & nutrition\",\"Gender statistics\",\"Crime & justice\",\"Poverty & income\",\"Social statistics subscore\"],\"legendgroup\":\"Social statistics\",\"marker\":{\"color\":\"RebeccaPurple\",\"size\":[70,70,70,70,70,70,70,70,70,70,120],\"sizemode\":\"area\",\"sizeref\":0.3,\"symbol\":\"circle\"},\"mode\":\"markers+text\",\"name\":\"Social statistics\",\"orientation\":\"v\",\"showlegend\":true,\"text\":[\"\",\"\",\"\",\"\",\"\",\"\",\"\",\"\",\"\",\"\",\"Social statistics\"],\"x\":[60.0,30.0,29.3,28.6,20.0,27.9,12.5,40.0,39.3,59.3,35.7],\"xaxis\":\"x\",\"y\":[0.20000000000000015,-0.20000000000000015,0.20000000000000015,-0.20000000000000015,0.20000000000000015,-0.20000000000000015,0.20000000000000015,-0.20000000000000015,0.20000000000000015,-0.20000000000000015,0.20000000000000015],\"yaxis\":\"y\",\"type\":\"scatter\"},{\"customdata\":[[\"National accounts\"],[\"Labor\"],[\"Price indexes\"],[\"Government finance\"],[\"Money & banking\"],[\"International trade\"],[\"Balance of payments\"],[\"Economic & financial statistics subscore\"]],\"hovertemplate\":\"%{customdata[0]}<extra></extra>\",\"ids\":[\"National accounts\",\"Labor\",\"Price indexes\",\"Government finance\",\"Money & banking\",\"International trade\",\"Balance of payments\",\"Economic & financial statistics subscore\"],\"legendgroup\":\"Economic & financial statistics\",\"marker\":{\"color\":\"red\",\"size\":[70,70,70,70,70,70,70,120],\"sizemode\":\"area\",\"sizeref\":0.3,\"symbol\":\"circle\"},\"mode\":\"markers+text\",\"name\":\"Economic & financial statistics\",\"orientation\":\"v\",\"showlegend\":true,\"text\":[\"\",\"\",\"\",\"\",\"\",\"\",\"\",\"Economic & financial statistics\"],\"x\":[37.5,58.6,36.8,75.0,100.0,50.0,99.3,63.5],\"xaxis\":\"x\",\"y\":[-0.20000000000000015,0.20000000000000015,-0.20000000000000015,0.20000000000000015,-0.20000000000000015,0.20000000000000015,-0.20000000000000015,0.20000000000000015],\"yaxis\":\"y\",\"type\":\"scatter\"},{\"customdata\":[[\"Agriculture & Land Use\"],[\"Resource use\"],[\"Energy\"],[\"Pollution\"],[\"Built environment\"],[\"Environment subscore\"]],\"hovertemplate\":\"%{customdata[0]}<extra></extra>\",\"ids\":[\"Agriculture & Land Use\",\"Resource use\",\"Energy\",\"Pollution\",\"Built environment\",\"Environment subscore\"],\"legendgroup\":\"Environmental statistics\",\"marker\":{\"color\":\"#021988\",\"size\":[70,70,70,70,70,120],\"sizemode\":\"area\",\"sizeref\":0.3,\"symbol\":\"circle\"},\"mode\":\"markers+text\",\"name\":\"Environmental statistics\",\"orientation\":\"v\",\"showlegend\":true,\"text\":[\"\",\"\",\"\",\"\",\"\",\"Environmental statistics\"],\"x\":[27.2,62.5,49.3,74.3,38.6,48.6],\"xaxis\":\"x\",\"y\":[-0.20000000000000015,0.20000000000000015,-0.20000000000000015,0.20000000000000015,-0.20000000000000015,0.20000000000000015],\"yaxis\":\"y\",\"type\":\"scatter\"},{\"customdata\":[[\"All Categories\"]],\"hovertemplate\":\"%{customdata[0]}<extra></extra>\",\"ids\":[\"All Categories\"],\"legendgroup\":\"All Categories Score\",\"marker\":{\"color\":\"black\",\"size\":[120],\"sizemode\":\"area\",\"sizeref\":0.3,\"symbol\":\"circle\"},\"mode\":\"markers+text\",\"name\":\"All Categories Score\",\"orientation\":\"v\",\"showlegend\":true,\"text\":[\"All Categories Score\"],\"x\":[48.4],\"xaxis\":\"x\",\"y\":[-0.20000000000000015],\"yaxis\":\"y\",\"type\":\"scatter\"}],\"name\":\"7\"},{\"data\":[{\"customdata\":[[\"Population & vital statistics\"],[\"Education facilities\"],[\"Education outcomes\"],[\"Health facilities\"],[\"Health outcomes\"],[\"Reproductive health\"],[\"Food security & nutrition\"],[\"Gender statistics\"],[\"Crime & justice\"],[\"Poverty & income\"],[\"Social statistics subscore\"]],\"hovertemplate\":\"%{customdata[0]}<extra></extra>\",\"ids\":[\"Population & vital statistics\",\"Education facilities\",\"Education outcomes\",\"Health facilities\",\"Health outcomes\",\"Reproductive health\",\"Food security & nutrition\",\"Gender statistics\",\"Crime & justice\",\"Poverty & income\",\"Social statistics subscore\"],\"legendgroup\":\"Social statistics\",\"marker\":{\"color\":\"RebeccaPurple\",\"size\":[70,70,70,70,70,70,70,70,70,70,120],\"sizemode\":\"area\",\"sizeref\":0.3,\"symbol\":\"circle\"},\"mode\":\"markers+text\",\"name\":\"Social statistics\",\"orientation\":\"v\",\"showlegend\":true,\"text\":[\"\",\"\",\"\",\"\",\"\",\"\",\"\",\"\",\"\",\"\",\"\"],\"x\":[60.0,30.0,29.3,28.6,20.0,27.9,12.5,40.0,39.3,59.3,35.7],\"xaxis\":\"x\",\"y\":[0.10000000000000014,-0.10000000000000014,0.10000000000000014,-0.10000000000000014,0.10000000000000014,-0.10000000000000014,0.10000000000000014,-0.10000000000000014,0.10000000000000014,-0.10000000000000014,0.10000000000000014],\"yaxis\":\"y\",\"type\":\"scatter\"},{\"customdata\":[[\"National accounts\"],[\"Labor\"],[\"Price indexes\"],[\"Government finance\"],[\"Money & banking\"],[\"International trade\"],[\"Balance of payments\"],[\"Economic & financial statistics subscore\"]],\"hovertemplate\":\"%{customdata[0]}<extra></extra>\",\"ids\":[\"National accounts\",\"Labor\",\"Price indexes\",\"Government finance\",\"Money & banking\",\"International trade\",\"Balance of payments\",\"Economic & financial statistics subscore\"],\"legendgroup\":\"Economic & financial statistics\",\"marker\":{\"color\":\"red\",\"size\":[70,70,70,70,70,70,70,120],\"sizemode\":\"area\",\"sizeref\":0.3,\"symbol\":\"circle\"},\"mode\":\"markers+text\",\"name\":\"Economic & financial statistics\",\"orientation\":\"v\",\"showlegend\":true,\"text\":[\"\",\"\",\"\",\"\",\"\",\"\",\"\",\"\"],\"x\":[37.5,58.6,36.8,75.0,100.0,50.0,99.3,63.5],\"xaxis\":\"x\",\"y\":[-0.10000000000000014,0.10000000000000014,-0.10000000000000014,0.10000000000000014,-0.10000000000000014,0.10000000000000014,-0.10000000000000014,0.10000000000000014],\"yaxis\":\"y\",\"type\":\"scatter\"},{\"customdata\":[[\"Agriculture & Land Use\"],[\"Resource use\"],[\"Energy\"],[\"Pollution\"],[\"Built environment\"],[\"Environment subscore\"]],\"hovertemplate\":\"%{customdata[0]}<extra></extra>\",\"ids\":[\"Agriculture & Land Use\",\"Resource use\",\"Energy\",\"Pollution\",\"Built environment\",\"Environment subscore\"],\"legendgroup\":\"Environmental statistics\",\"marker\":{\"color\":\"#021988\",\"size\":[70,70,70,70,70,120],\"sizemode\":\"area\",\"sizeref\":0.3,\"symbol\":\"circle\"},\"mode\":\"markers+text\",\"name\":\"Environmental statistics\",\"orientation\":\"v\",\"showlegend\":true,\"text\":[\"\",\"\",\"\",\"\",\"\",\"\"],\"x\":[27.2,62.5,49.3,74.3,38.6,48.6],\"xaxis\":\"x\",\"y\":[-0.10000000000000014,0.10000000000000014,-0.10000000000000014,0.10000000000000014,-0.10000000000000014,0.10000000000000014],\"yaxis\":\"y\",\"type\":\"scatter\"},{\"customdata\":[[\"All Categories\"]],\"hovertemplate\":\"%{customdata[0]}<extra></extra>\",\"ids\":[\"All Categories\"],\"legendgroup\":\"All Categories Score\",\"marker\":{\"color\":\"black\",\"size\":[120],\"sizemode\":\"area\",\"sizeref\":0.3,\"symbol\":\"circle\"},\"mode\":\"markers+text\",\"name\":\"All Categories Score\",\"orientation\":\"v\",\"showlegend\":true,\"text\":[\"\"],\"x\":[48.4],\"xaxis\":\"x\",\"y\":[-0.10000000000000014],\"yaxis\":\"y\",\"type\":\"scatter\"}],\"name\":\"8\"},{\"data\":[{\"customdata\":[[\"Population & vital statistics\"],[\"Education facilities\"],[\"Education outcomes\"],[\"Health facilities\"],[\"Health outcomes\"],[\"Reproductive health\"],[\"Food security & nutrition\"],[\"Gender statistics\"],[\"Crime & justice\"],[\"Poverty & income\"],[\"Social statistics subscore\"]],\"hovertemplate\":\"%{customdata[0]}<extra></extra>\",\"ids\":[\"Population & vital statistics\",\"Education facilities\",\"Education outcomes\",\"Health facilities\",\"Health outcomes\",\"Reproductive health\",\"Food security & nutrition\",\"Gender statistics\",\"Crime & justice\",\"Poverty & income\",\"Social statistics subscore\"],\"legendgroup\":\"Social statistics\",\"marker\":{\"color\":\"RebeccaPurple\",\"size\":[70,70,70,70,70,70,70,70,70,70,120],\"sizemode\":\"area\",\"sizeref\":0.3,\"symbol\":\"circle\"},\"mode\":\"markers+text\",\"name\":\"Social statistics\",\"orientation\":\"v\",\"showlegend\":true,\"text\":[\"\",\"\",\"\",\"\",\"\",\"\",\"\",\"\",\"\",\"\",\"\"],\"x\":[60.0,30.0,29.3,28.6,20.0,27.9,12.5,40.0,39.3,59.3,35.7],\"xaxis\":\"x\",\"y\":[1.3877787807814457e-16,-1.3877787807814457e-16,1.3877787807814457e-16,-1.3877787807814457e-16,1.3877787807814457e-16,-1.3877787807814457e-16,1.3877787807814457e-16,-1.3877787807814457e-16,1.3877787807814457e-16,-1.3877787807814457e-16,1.3877787807814457e-16],\"yaxis\":\"y\",\"type\":\"scatter\"},{\"customdata\":[[\"National accounts\"],[\"Labor\"],[\"Price indexes\"],[\"Government finance\"],[\"Money & banking\"],[\"International trade\"],[\"Balance of payments\"],[\"Economic & financial statistics subscore\"]],\"hovertemplate\":\"%{customdata[0]}<extra></extra>\",\"ids\":[\"National accounts\",\"Labor\",\"Price indexes\",\"Government finance\",\"Money & banking\",\"International trade\",\"Balance of payments\",\"Economic & financial statistics subscore\"],\"legendgroup\":\"Economic & financial statistics\",\"marker\":{\"color\":\"red\",\"size\":[70,70,70,70,70,70,70,120],\"sizemode\":\"area\",\"sizeref\":0.3,\"symbol\":\"circle\"},\"mode\":\"markers+text\",\"name\":\"Economic & financial statistics\",\"orientation\":\"v\",\"showlegend\":true,\"text\":[\"\",\"\",\"\",\"\",\"\",\"\",\"\",\"\"],\"x\":[37.5,58.6,36.8,75.0,100.0,50.0,99.3,63.5],\"xaxis\":\"x\",\"y\":[-1.3877787807814457e-16,1.3877787807814457e-16,-1.3877787807814457e-16,1.3877787807814457e-16,-1.3877787807814457e-16,1.3877787807814457e-16,-1.3877787807814457e-16,1.3877787807814457e-16],\"yaxis\":\"y\",\"type\":\"scatter\"},{\"customdata\":[[\"Agriculture & Land Use\"],[\"Resource use\"],[\"Energy\"],[\"Pollution\"],[\"Built environment\"],[\"Environment subscore\"]],\"hovertemplate\":\"%{customdata[0]}<extra></extra>\",\"ids\":[\"Agriculture & Land Use\",\"Resource use\",\"Energy\",\"Pollution\",\"Built environment\",\"Environment subscore\"],\"legendgroup\":\"Environmental statistics\",\"marker\":{\"color\":\"#021988\",\"size\":[70,70,70,70,70,120],\"sizemode\":\"area\",\"sizeref\":0.3,\"symbol\":\"circle\"},\"mode\":\"markers+text\",\"name\":\"Environmental statistics\",\"orientation\":\"v\",\"showlegend\":true,\"text\":[\"\",\"\",\"\",\"\",\"\",\"\"],\"x\":[27.2,62.5,49.3,74.3,38.6,48.6],\"xaxis\":\"x\",\"y\":[-1.3877787807814457e-16,1.3877787807814457e-16,-1.3877787807814457e-16,1.3877787807814457e-16,-1.3877787807814457e-16,1.3877787807814457e-16],\"yaxis\":\"y\",\"type\":\"scatter\"},{\"customdata\":[[\"All Categories\"]],\"hovertemplate\":\"%{customdata[0]}<extra></extra>\",\"ids\":[\"All Categories\"],\"legendgroup\":\"All Categories Score\",\"marker\":{\"color\":\"black\",\"size\":[120],\"sizemode\":\"area\",\"sizeref\":0.3,\"symbol\":\"circle\"},\"mode\":\"markers+text\",\"name\":\"All Categories Score\",\"orientation\":\"v\",\"showlegend\":true,\"text\":[\"\"],\"x\":[48.4],\"xaxis\":\"x\",\"y\":[-1.3877787807814457e-16],\"yaxis\":\"y\",\"type\":\"scatter\"}],\"name\":\"9\"}]);\n",
       "                        }).then(function(){\n",
       "                            \n",
       "var gd = document.getElementById('8c590344-2edd-44be-b572-98de62e3f02b');\n",
       "var x = new MutationObserver(function (mutations, observer) {{\n",
       "        var display = window.getComputedStyle(gd).display;\n",
       "        if (!display || display === 'none') {{\n",
       "            console.log([gd, 'removed!']);\n",
       "            Plotly.purge(gd);\n",
       "            observer.disconnect();\n",
       "        }}\n",
       "}});\n",
       "\n",
       "// Listen for the removal of the full notebook cells\n",
       "var notebookContainer = gd.closest('#notebook-container');\n",
       "if (notebookContainer) {{\n",
       "    x.observe(notebookContainer, {childList: true});\n",
       "}}\n",
       "\n",
       "// Listen for the clearing of the current output cell\n",
       "var outputEl = gd.closest('.output');\n",
       "if (outputEl) {{\n",
       "    x.observe(outputEl, {childList: true});\n",
       "}}\n",
       "\n",
       "                        })                };                });            </script>        </div>"
      ]
     },
     "metadata": {},
     "output_type": "display_data"
    }
   ],
   "source": [
    "def plot(country):\n",
    "\n",
    "    fig=px.scatter(data_frames_prepaired[country], x='Data Categories Scores', y='yAxis', hover_data=[\"Data categories\"], text=\"score_text\",   \n",
    "                  animation_frame=\"Animation\", animation_group=\"Data categories\", color='Color Legend',size=\"size\",\n",
    "                   color_discrete_map={ # replaces default color mapping by value\n",
    "                    'Social statistics': \"RebeccaPurple\", \"Economic & financial statistics\": \"red\",\n",
    "                       \"All Categories Score\":\"black\", 'Environmental statistics':\"#021988\"},title=country\n",
    "                  )\n",
    "\n",
    "\n",
    "    fig.update_xaxes(tick0=0, dtick=5)\n",
    "    fig.update_xaxes(tick0=0)\n",
    "    fig.update_yaxes(range=[-1, 1])\n",
    "    fig.update_traces(textposition='top center')\n",
    "    fig.update_traces(textfont=dict(\n",
    "            color=\"Black\"\n",
    "        ))\n",
    "    fig.update_traces(hovertemplate=\"%{customdata[0]}<extra></extra>\")\n",
    "    for f in fig.frames:\n",
    "        for i in range(0,len(f.data)):\n",
    "            f.data[i].update(hovertemplate=\"%{customdata[0]}<extra></extra>\")\n",
    "    fig.update_traces(showlegend=True)\n",
    "    fig.update_yaxes(title='yaxis', visible=False, showticklabels=False)\n",
    "\n",
    "\n",
    "    fig.show()\n",
    "\n",
    "plot(\"Cyprus\")\n"
   ]
  },
  {
   "cell_type": "code",
   "execution_count": null,
   "metadata": {},
   "outputs": [],
   "source": [
    "\n"
   ]
  }
 ],
 "metadata": {
  "kernelspec": {
   "display_name": "Python 3",
   "language": "python",
   "name": "python3"
  },
  "language_info": {
   "codemirror_mode": {
    "name": "ipython",
    "version": 3
   },
   "file_extension": ".py",
   "mimetype": "text/x-python",
   "name": "python",
   "nbconvert_exporter": "python",
   "pygments_lexer": "ipython3",
   "version": "3.7.6"
  }
 },
 "nbformat": 4,
 "nbformat_minor": 4
}